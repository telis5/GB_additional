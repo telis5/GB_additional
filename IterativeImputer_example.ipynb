{
 "cells": [
  {
   "cell_type": "markdown",
   "metadata": {
    "colab_type": "text",
    "id": "dS36jQwxn_l2"
   },
   "source": [
    "# Пример использования IterativeImputer для замены пропусков\n",
    "\n"
   ]
  },
  {
   "cell_type": "markdown",
   "metadata": {
    "colab_type": "text",
    "id": "HELKajRon_l_"
   },
   "source": [
    "Документация - https://scikit-learn.org/stable/modules/generated/sklearn.impute.IterativeImputer.html  \n",
    "\n",
    "Пример - https://machinelearningmastery.com/iterative-imputation-for-missing-values-in-machine-learning/"
   ]
  },
  {
   "cell_type": "markdown",
   "metadata": {
    "colab_type": "text",
    "id": "RE-6pKUhn_l9"
   },
   "source": [
    "**Подключение библиотек и скриптов**"
   ]
  },
  {
   "cell_type": "code",
   "execution_count": 1,
   "metadata": {
    "colab": {},
    "colab_type": "code",
    "id": "tvDPmcQOn_mA"
   },
   "outputs": [],
   "source": [
    "import warnings\n",
    "warnings.filterwarnings('ignore')\n",
    "\n",
    "import numpy as np\n",
    "import pandas as pd\n",
    "import random\n",
    "\n",
    "from sklearn.model_selection import cross_val_score, train_test_split\n",
    "from sklearn.preprocessing import StandardScaler, RobustScaler\n",
    "from sklearn.linear_model import LinearRegression\n",
    "from sklearn.experimental import enable_iterative_imputer\n",
    "from sklearn.impute import IterativeImputer\n",
    "from sklearn.ensemble import RandomForestRegressor, GradientBoostingRegressor, VotingRegressor\n",
    "from sklearn.metrics import r2_score\n",
    "from sklearn.model_selection import KFold, GridSearchCV, RandomizedSearchCV\n",
    "from sklearn.pipeline import Pipeline\n",
    "\n",
    "import matplotlib\n",
    "import matplotlib.pyplot as plt\n",
    "import seaborn as sns\n",
    "%matplotlib inline"
   ]
  },
  {
   "cell_type": "code",
   "execution_count": 2,
   "metadata": {
    "colab": {},
    "colab_type": "code",
    "id": "gaotSIpxn_mG"
   },
   "outputs": [],
   "source": [
    "sns.set(style='whitegrid')\n",
    "sns.set_context(\"paper\", font_scale=1.5)  \n",
    "pd.options.display.float_format = '{:,.4f}'.format\n",
    "pd.set_option('display.max_rows', 50)"
   ]
  },
  {
   "cell_type": "markdown",
   "metadata": {
    "colab_type": "text",
    "id": "qE5F4wz3n_mM"
   },
   "source": [
    "### Загрузка датасета"
   ]
  },
  {
   "cell_type": "code",
   "execution_count": 3,
   "metadata": {
    "colab": {},
    "colab_type": "code",
    "id": "KaWi5P51n_mN"
   },
   "outputs": [],
   "source": [
    "TRAIN_DATASET_PATH = '../../Kurs_project_task/train.csv'\n",
    "TEST_DATASET_PATH = '../../Kurs_project_task/test.csv'"
   ]
  },
  {
   "cell_type": "code",
   "execution_count": 4,
   "metadata": {
    "colab": {
     "base_uri": "https://localhost:8080/",
     "height": 34
    },
    "colab_type": "code",
    "id": "iHMwyCY8af_3",
    "outputId": "5c3da4d9-1d2a-4276-8431-4a050bf39363"
   },
   "outputs": [
    {
     "data": {
      "text/html": [
       "<div>\n",
       "<style scoped>\n",
       "    .dataframe tbody tr th:only-of-type {\n",
       "        vertical-align: middle;\n",
       "    }\n",
       "\n",
       "    .dataframe tbody tr th {\n",
       "        vertical-align: top;\n",
       "    }\n",
       "\n",
       "    .dataframe thead th {\n",
       "        text-align: right;\n",
       "    }\n",
       "</style>\n",
       "<table border=\"1\" class=\"dataframe\">\n",
       "  <thead>\n",
       "    <tr style=\"text-align: right;\">\n",
       "      <th></th>\n",
       "      <th>DistrictId</th>\n",
       "      <th>Rooms</th>\n",
       "      <th>Square</th>\n",
       "      <th>LifeSquare</th>\n",
       "      <th>KitchenSquare</th>\n",
       "      <th>Floor</th>\n",
       "      <th>HouseFloor</th>\n",
       "      <th>HouseYear</th>\n",
       "      <th>Ecology_1</th>\n",
       "      <th>Ecology_2</th>\n",
       "      <th>Ecology_3</th>\n",
       "      <th>Social_1</th>\n",
       "      <th>Social_2</th>\n",
       "      <th>Social_3</th>\n",
       "      <th>Healthcare_1</th>\n",
       "      <th>Helthcare_2</th>\n",
       "      <th>Shops_1</th>\n",
       "      <th>Shops_2</th>\n",
       "      <th>Price</th>\n",
       "    </tr>\n",
       "    <tr>\n",
       "      <th>Id</th>\n",
       "      <th></th>\n",
       "      <th></th>\n",
       "      <th></th>\n",
       "      <th></th>\n",
       "      <th></th>\n",
       "      <th></th>\n",
       "      <th></th>\n",
       "      <th></th>\n",
       "      <th></th>\n",
       "      <th></th>\n",
       "      <th></th>\n",
       "      <th></th>\n",
       "      <th></th>\n",
       "      <th></th>\n",
       "      <th></th>\n",
       "      <th></th>\n",
       "      <th></th>\n",
       "      <th></th>\n",
       "      <th></th>\n",
       "    </tr>\n",
       "  </thead>\n",
       "  <tbody>\n",
       "    <tr>\n",
       "      <th>14038</th>\n",
       "      <td>35</td>\n",
       "      <td>2.0000</td>\n",
       "      <td>47.9816</td>\n",
       "      <td>29.4428</td>\n",
       "      <td>6.0000</td>\n",
       "      <td>7</td>\n",
       "      <td>9.0000</td>\n",
       "      <td>1969</td>\n",
       "      <td>0.0890</td>\n",
       "      <td>B</td>\n",
       "      <td>B</td>\n",
       "      <td>33</td>\n",
       "      <td>7976</td>\n",
       "      <td>5</td>\n",
       "      <td>nan</td>\n",
       "      <td>0</td>\n",
       "      <td>11</td>\n",
       "      <td>B</td>\n",
       "      <td>184,966.9307</td>\n",
       "    </tr>\n",
       "    <tr>\n",
       "      <th>15053</th>\n",
       "      <td>41</td>\n",
       "      <td>3.0000</td>\n",
       "      <td>65.6836</td>\n",
       "      <td>40.0495</td>\n",
       "      <td>8.0000</td>\n",
       "      <td>7</td>\n",
       "      <td>9.0000</td>\n",
       "      <td>1978</td>\n",
       "      <td>0.0001</td>\n",
       "      <td>B</td>\n",
       "      <td>B</td>\n",
       "      <td>46</td>\n",
       "      <td>10309</td>\n",
       "      <td>1</td>\n",
       "      <td>240.0000</td>\n",
       "      <td>1</td>\n",
       "      <td>16</td>\n",
       "      <td>B</td>\n",
       "      <td>300,009.4501</td>\n",
       "    </tr>\n",
       "    <tr>\n",
       "      <th>4765</th>\n",
       "      <td>53</td>\n",
       "      <td>2.0000</td>\n",
       "      <td>44.9480</td>\n",
       "      <td>29.1976</td>\n",
       "      <td>0.0000</td>\n",
       "      <td>8</td>\n",
       "      <td>12.0000</td>\n",
       "      <td>1968</td>\n",
       "      <td>0.0496</td>\n",
       "      <td>B</td>\n",
       "      <td>B</td>\n",
       "      <td>34</td>\n",
       "      <td>7759</td>\n",
       "      <td>0</td>\n",
       "      <td>229.0000</td>\n",
       "      <td>1</td>\n",
       "      <td>3</td>\n",
       "      <td>B</td>\n",
       "      <td>220,925.9085</td>\n",
       "    </tr>\n",
       "    <tr>\n",
       "      <th>5809</th>\n",
       "      <td>58</td>\n",
       "      <td>2.0000</td>\n",
       "      <td>53.3530</td>\n",
       "      <td>52.7315</td>\n",
       "      <td>9.0000</td>\n",
       "      <td>8</td>\n",
       "      <td>17.0000</td>\n",
       "      <td>1977</td>\n",
       "      <td>0.4379</td>\n",
       "      <td>B</td>\n",
       "      <td>B</td>\n",
       "      <td>23</td>\n",
       "      <td>5735</td>\n",
       "      <td>3</td>\n",
       "      <td>1,084.0000</td>\n",
       "      <td>0</td>\n",
       "      <td>5</td>\n",
       "      <td>B</td>\n",
       "      <td>175,616.2272</td>\n",
       "    </tr>\n",
       "    <tr>\n",
       "      <th>10783</th>\n",
       "      <td>99</td>\n",
       "      <td>1.0000</td>\n",
       "      <td>39.6492</td>\n",
       "      <td>23.7762</td>\n",
       "      <td>7.0000</td>\n",
       "      <td>11</td>\n",
       "      <td>12.0000</td>\n",
       "      <td>1976</td>\n",
       "      <td>0.0123</td>\n",
       "      <td>B</td>\n",
       "      <td>B</td>\n",
       "      <td>35</td>\n",
       "      <td>5776</td>\n",
       "      <td>1</td>\n",
       "      <td>2,078.0000</td>\n",
       "      <td>2</td>\n",
       "      <td>4</td>\n",
       "      <td>B</td>\n",
       "      <td>150,226.5316</td>\n",
       "    </tr>\n",
       "  </tbody>\n",
       "</table>\n",
       "</div>"
      ],
      "text/plain": [
       "       DistrictId  Rooms  Square  LifeSquare  KitchenSquare  Floor  \\\n",
       "Id                                                                   \n",
       "14038          35 2.0000 47.9816     29.4428         6.0000      7   \n",
       "15053          41 3.0000 65.6836     40.0495         8.0000      7   \n",
       "4765           53 2.0000 44.9480     29.1976         0.0000      8   \n",
       "5809           58 2.0000 53.3530     52.7315         9.0000      8   \n",
       "10783          99 1.0000 39.6492     23.7762         7.0000     11   \n",
       "\n",
       "       HouseFloor  HouseYear  Ecology_1 Ecology_2 Ecology_3  Social_1  \\\n",
       "Id                                                                      \n",
       "14038      9.0000       1969     0.0890         B         B        33   \n",
       "15053      9.0000       1978     0.0001         B         B        46   \n",
       "4765      12.0000       1968     0.0496         B         B        34   \n",
       "5809      17.0000       1977     0.4379         B         B        23   \n",
       "10783     12.0000       1976     0.0123         B         B        35   \n",
       "\n",
       "       Social_2  Social_3  Healthcare_1  Helthcare_2  Shops_1 Shops_2  \\\n",
       "Id                                                                      \n",
       "14038      7976         5           nan            0       11       B   \n",
       "15053     10309         1      240.0000            1       16       B   \n",
       "4765       7759         0      229.0000            1        3       B   \n",
       "5809       5735         3    1,084.0000            0        5       B   \n",
       "10783      5776         1    2,078.0000            2        4       B   \n",
       "\n",
       "             Price  \n",
       "Id                  \n",
       "14038 184,966.9307  \n",
       "15053 300,009.4501  \n",
       "4765  220,925.9085  \n",
       "5809  175,616.2272  \n",
       "10783 150,226.5316  "
      ]
     },
     "execution_count": 4,
     "metadata": {},
     "output_type": "execute_result"
    }
   ],
   "source": [
    "train = pd.read_csv(TRAIN_DATASET_PATH, index_col='Id')\n",
    "train.head()"
   ]
  },
  {
   "cell_type": "markdown",
   "metadata": {
    "colab_type": "text",
    "id": "gdlhKyxSn_mW"
   },
   "source": [
    "**Описание датасета**\n",
    "\n",
    "* **Id** - идентификационный номер квартиры\n",
    "* **DistrictId** - идентификационный номер района\n",
    "* **Rooms** - количество комнат\n",
    "* **Square** - площадь\n",
    "* **LifeSquare** - жилая площадь\n",
    "* **KitchenSquare** - площадь кухни\n",
    "* **Floor** - этаж\n",
    "* **HouseFloor** - количество этажей в доме\n",
    "* **HouseYear** - год постройки дома\n",
    "* **Ecology_1, Ecology_2, Ecology_3** - экологические показатели местности\n",
    "* **Social_1, Social_2, Social_3** - социальные показатели местности\n",
    "* **Healthcare_1, Helthcare_2** - показатели местности, связанные с охраной здоровья\n",
    "* **Shops_1, Shops_2** - показатели, связанные с наличием магазинов, торговых центров\n",
    "* **Price** - цена квартиры"
   ]
  },
  {
   "cell_type": "code",
   "execution_count": 5,
   "metadata": {
    "colab": {
     "base_uri": "https://localhost:8080/",
     "height": 34
    },
    "colab_type": "code",
    "id": "b9AoE0rDn_mg",
    "outputId": "b7b5717c-50f0-4985-b3d6-4b888af57c90"
   },
   "outputs": [
    {
     "data": {
      "text/plain": [
       "(10000, 19)"
      ]
     },
     "execution_count": 5,
     "metadata": {},
     "output_type": "execute_result"
    }
   ],
   "source": [
    "train.shape"
   ]
  },
  {
   "cell_type": "markdown",
   "metadata": {
    "colab_type": "text",
    "id": "N6sHUQgzn_mu"
   },
   "source": [
    "### Приведение типов"
   ]
  },
  {
   "cell_type": "code",
   "execution_count": 6,
   "metadata": {
    "colab": {},
    "colab_type": "code",
    "id": "JDpmPqf7n_mz"
   },
   "outputs": [],
   "source": [
    "feature_bin_names = ['Ecology_2', 'Ecology_3', 'Shops_2']\n",
    "\n",
    "train[feature_bin_names] = train[feature_bin_names].replace({'A':0, 'B':1})"
   ]
  },
  {
   "cell_type": "markdown",
   "metadata": {
    "colab_type": "text",
    "id": "qU-w4Msgn_n8"
   },
   "source": [
    "### Обработка пропусков"
   ]
  },
  {
   "cell_type": "code",
   "execution_count": 7,
   "metadata": {
    "colab": {
     "base_uri": "https://localhost:8080/",
     "height": 67
    },
    "colab_type": "code",
    "id": "kag7NEqGn_n9",
    "outputId": "6a1b64da-6218-4e70-833c-c27bc6c5c6ef"
   },
   "outputs": [
    {
     "data": {
      "text/plain": [
       "LifeSquare      2113\n",
       "Healthcare_1    4798\n",
       "dtype: int64"
      ]
     },
     "execution_count": 7,
     "metadata": {},
     "output_type": "execute_result"
    }
   ],
   "source": [
    "train.isna().sum()[train.isna().sum() != 0]"
   ]
  },
  {
   "cell_type": "markdown",
   "metadata": {
    "colab_type": "text",
    "id": "wodeIMqSfi2V"
   },
   "source": [
    "**Базовый вариант** - обучим модель на данных без признаков с пропусками. Для предсказания используем GradientBoostingRegressor."
   ]
  },
  {
   "cell_type": "code",
   "execution_count": 8,
   "metadata": {
    "colab": {},
    "colab_type": "code",
    "id": "CO1yjefeigLa"
   },
   "outputs": [],
   "source": [
    "feature_names = train.drop(['LifeSquare', 'Healthcare_1', 'DistrictId', 'Price'], axis=1).columns\n",
    "target_name = ['Price']\n",
    "\n",
    "X = train[feature_names]\n",
    "y = train[target_name]"
   ]
  },
  {
   "cell_type": "code",
   "execution_count": 9,
   "metadata": {
    "colab": {},
    "colab_type": "code",
    "id": "DK2viwczfwx1"
   },
   "outputs": [],
   "source": [
    "gb_model = GradientBoostingRegressor(\n",
    "    n_estimators=100,\n",
    "    n_iter_no_change=10,\n",
    "    max_depth=8,\n",
    "    max_features=6,\n",
    "    random_state=42)"
   ]
  },
  {
   "cell_type": "code",
   "execution_count": 10,
   "metadata": {
    "colab": {
     "base_uri": "https://localhost:8080/",
     "height": 34
    },
    "colab_type": "code",
    "id": "3IHBq300fEbH",
    "outputId": "6371285e-7f5f-4dd1-d8e5-d0afb2dc7861"
   },
   "outputs": [
    {
     "name": "stdout",
     "output_type": "stream",
     "text": [
      "R2: 0.7436\n"
     ]
    }
   ],
   "source": [
    "cv = KFold(n_splits=10, shuffle=True, random_state=42)\n",
    "\n",
    "scores = cross_val_score(gb_model, X, y, scoring='r2', cv=cv)\n",
    "print('R2: %.4f' % scores.mean())"
   ]
  },
  {
   "cell_type": "markdown",
   "metadata": {
    "colab_type": "text",
    "id": "8WRYXKXckPHW"
   },
   "source": [
    "**1 вариант** - используем IterativeImputer() по умолчанию\n",
    "\n",
    "Каждая переменная с пропусками представляется как функция от всех остальных переменных. Ее пропуски заменяются рассчитанными по этой функции значениями."
   ]
  },
  {
   "cell_type": "code",
   "execution_count": 11,
   "metadata": {
    "colab": {
     "base_uri": "https://localhost:8080/",
     "height": 67
    },
    "colab_type": "code",
    "id": "3lAyFu1nlBdu",
    "outputId": "08213b97-c692-4514-e574-39d732fb0bf2"
   },
   "outputs": [
    {
     "data": {
      "text/plain": [
       "LifeSquare      2113\n",
       "Healthcare_1    4798\n",
       "dtype: int64"
      ]
     },
     "execution_count": 11,
     "metadata": {},
     "output_type": "execute_result"
    }
   ],
   "source": [
    "feature_names = train.drop(['DistrictId', 'Price'], axis=1).columns\n",
    "X = train[feature_names]\n",
    "X.isna().sum()[X.isna().sum() != 0]"
   ]
  },
  {
   "cell_type": "code",
   "execution_count": 12,
   "metadata": {
    "colab": {},
    "colab_type": "code",
    "id": "oOpE-CTukZ8z"
   },
   "outputs": [
    {
     "name": "stdout",
     "output_type": "stream",
     "text": [
      "R2: 0.7454\n"
     ]
    }
   ],
   "source": [
    "imputer = IterativeImputer()\n",
    "\n",
    "X_imp = imputer.fit_transform(X)\n",
    "scores = cross_val_score(gb_model, X_imp, y, scoring='r2', cv=cv)\n",
    "print('R2: %.4f' % scores.mean())"
   ]
  },
  {
   "cell_type": "markdown",
   "metadata": {
    "colab_type": "text",
    "id": "E-gnS1zwrCmO"
   },
   "source": [
    "Метрика немного выросла."
   ]
  },
  {
   "cell_type": "markdown",
   "metadata": {
    "colab_type": "text",
    "id": "Pp8pq8DmmM-d"
   },
   "source": [
    "**2 вариант** - подберем порядок замены пропусков"
   ]
  },
  {
   "cell_type": "code",
   "execution_count": 13,
   "metadata": {
    "colab": {
     "base_uri": "https://localhost:8080/",
     "height": 101
    },
    "colab_type": "code",
    "id": "EFMNq_ANn_oK",
    "outputId": "d04da2c2-3036-4d12-9851-aa9b0b06b43c"
   },
   "outputs": [
    {
     "name": "stdout",
     "output_type": "stream",
     "text": [
      "R2: 0.7454 - ascending\n",
      "R2: 0.7463 - descending\n",
      "R2: 0.7454 - roman\n",
      "R2: 0.7463 - arabic\n",
      "R2: 0.7454 - random\n"
     ]
    }
   ],
   "source": [
    "X = train[feature_names]\n",
    "results = list()\n",
    "strategies = ['ascending', 'descending', 'roman', 'arabic', 'random']\n",
    "for s in strategies:\n",
    "    imputer = IterativeImputer(imputation_order=s)\n",
    "    X_imp = imputer.fit_transform(X)\n",
    "    scores = cross_val_score(gb_model, X_imp, y, scoring='r2', cv=cv)\n",
    "    results.append(scores)\n",
    "    print('R2: %.4f - %s' % (scores.mean(), s))\n"
   ]
  },
  {
   "cell_type": "code",
   "execution_count": 14,
   "metadata": {
    "colab": {
     "base_uri": "https://localhost:8080/",
     "height": 270
    },
    "colab_type": "code",
    "id": "bi-8sjEM2sVI",
    "outputId": "b68b959d-0497-4afb-fbf3-af217c299b7c"
   },
   "outputs": [
    {
     "data": {
      "image/png": "[encoded data removed]",
      "text/plain": [
       "<Figure size 432x288 with 1 Axes>"
      ]
     },
     "metadata": {},
     "output_type": "display_data"
    }
   ],
   "source": [
    "sns.boxplot(x=results, y=strategies);"
   ]
  },
  {
   "cell_type": "markdown",
   "metadata": {
    "colab_type": "text",
    "id": "iitn-2AMBoDF"
   },
   "source": [
    "Получили два варианта. Это логично, у нас всего два признака с пропущенными значениями. Лучше заполнять сначала Healthcare_1, а потом LifeSquare. Но это если использовать IterativeImputer с дефолтными настройками."
   ]
  },
  {
   "cell_type": "markdown",
   "metadata": {
    "colab_type": "text",
    "id": "-UNKuUBepJWs"
   },
   "source": [
    "**3 вариант** - проверим разные модели для предсказания пропущенных значений:\n",
    "\n",
    "- BayesianRidge\n",
    "- DecisionTreeRegressor\n",
    "- ExtraTreesRegressor\n",
    "- KNeighborsRegressor\n",
    "\n",
    "\n",
    "\n"
   ]
  },
  {
   "cell_type": "code",
   "execution_count": 15,
   "metadata": {
    "colab": {},
    "colab_type": "code",
    "id": "bXp43MBspI9L"
   },
   "outputs": [],
   "source": [
    "from sklearn.linear_model import BayesianRidge\n",
    "from sklearn.tree import DecisionTreeRegressor\n",
    "from sklearn.ensemble import ExtraTreesRegressor\n",
    "from sklearn.neighbors import KNeighborsRegressor"
   ]
  },
  {
   "cell_type": "code",
   "execution_count": 16,
   "metadata": {
    "colab": {
     "base_uri": "https://localhost:8080/",
     "height": 84
    },
    "colab_type": "code",
    "id": "Nv4tQXhypI5x",
    "outputId": "34e78756-89ff-49c2-8428-fa08eb7be713"
   },
   "outputs": [
    {
     "name": "stdout",
     "output_type": "stream",
     "text": [
      "R2: 0.7464 - BayesianRidge\n",
      "R2: 0.7455 - DecisionTreeRegressor\n",
      "R2: 0.7478 - ExtraTreesRegressor\n",
      "R2: 0.7503 - KNeighborsRegressor\n"
     ]
    }
   ],
   "source": [
    "estimators = [\n",
    "    BayesianRidge(normalize=True),\n",
    "    DecisionTreeRegressor(random_state=42),\n",
    "    ExtraTreesRegressor(random_state=42),\n",
    "    KNeighborsRegressor()\n",
    "]\n",
    "results = list()\n",
    "names = list()\n",
    "for impute_estimator in estimators:\n",
    "    imputer = IterativeImputer(random_state=42, \n",
    "                               estimator=impute_estimator, \n",
    "                               imputation_order='descending')\n",
    "    X_imp = imputer.fit_transform(X)\n",
    "    scores = cross_val_score(gb_model, X_imp, y, scoring='r2', cv=cv)\n",
    "    results.append(scores)\n",
    "    name = impute_estimator.__class__.__name__\n",
    "    names.append(name)\n",
    "    print('R2: %.4f - %s' % (scores.mean(), name))\n"
   ]
  },
  {
   "cell_type": "code",
   "execution_count": 17,
   "metadata": {
    "colab": {
     "base_uri": "https://localhost:8080/",
     "height": 270
    },
    "colab_type": "code",
    "id": "kpJxm42x2CLD",
    "outputId": "bb537b9c-f92a-4286-a4a5-2f09e4724c73"
   },
   "outputs": [
    {
     "data": {
      "image/png": "[encoded data removed]",
      "text/plain": [
       "<Figure size 432x288 with 1 Axes>"
      ]
     },
     "metadata": {},
     "output_type": "display_data"
    }
   ],
   "source": [
    "sns.boxplot(x=results, y=names);"
   ]
  },
  {
   "cell_type": "markdown",
   "metadata": {
    "colab_type": "text",
    "id": "F5fygibUBZPw"
   },
   "source": [
    "Видно, что модель KNeighborsRegressor - лучший вариант при замене пропусков (по средним значениям), если imputation_order='descending' и max_iter=10."
   ]
  },
  {
   "cell_type": "markdown",
   "metadata": {
    "colab_type": "text",
    "id": "NvuJ-bEM3YCw"
   },
   "source": [
    "### Настройка параметров"
   ]
  },
  {
   "cell_type": "markdown",
   "metadata": {
    "colab_type": "text",
    "id": "AmrnOWgrCaJU"
   },
   "source": [
    "Подберем по сетке лучшую модель, порядок заполнения и параметр max_iter. Будем работать с отложенной выборкой."
   ]
  },
  {
   "cell_type": "code",
   "execution_count": 18,
   "metadata": {},
   "outputs": [
    {
     "data": {
      "text/plain": [
       "((7500, 17), (2500, 17), (7500, 1), (2500, 1))"
      ]
     },
     "execution_count": 18,
     "metadata": {},
     "output_type": "execute_result"
    }
   ],
   "source": [
    "X_train, X_valid, y_train, y_valid = train_test_split(X, y, test_size=0.25, shuffle=True, random_state=42)\n",
    "X_train.shape, X_valid.shape, y_train.shape, y_valid.shape"
   ]
  },
  {
   "cell_type": "code",
   "execution_count": 19,
   "metadata": {
    "colab": {
     "base_uri": "https://localhost:8080/",
     "height": 67
    },
    "colab_type": "code",
    "id": "oA_XNHhrHvm4",
    "outputId": "f1cbf2f3-bb41-4645-d2cb-dc16f0bc935b"
   },
   "outputs": [
    {
     "data": {
      "text/plain": [
       "LifeSquare      1594\n",
       "Healthcare_1    3614\n",
       "dtype: int64"
      ]
     },
     "execution_count": 19,
     "metadata": {},
     "output_type": "execute_result"
    }
   ],
   "source": [
    "X_train.isna().sum()[X_train.isna().sum() != 0]"
   ]
  },
  {
   "cell_type": "code",
   "execution_count": 20,
   "metadata": {
    "colab": {
     "base_uri": "https://localhost:8080/",
     "height": 101
    },
    "colab_type": "code",
    "id": "C6sf9-Q-3Xkz",
    "outputId": "f92e24b8-944f-47a8-d903-4d7879f0e52c"
   },
   "outputs": [
    {
     "name": "stdout",
     "output_type": "stream",
     "text": [
      "R2 train: 0.7294\n",
      "R2 valid: 0.7295\n",
      "{'imputer__estimator': KNeighborsRegressor(algorithm='auto', leaf_size=30, metric='minkowski',\n",
      "                    metric_params=None, n_jobs=None, n_neighbors=5, p=2,\n",
      "                    weights='uniform'), 'imputer__imputation_order': 'descending', 'imputer__max_iter': 1}\n"
     ]
    }
   ],
   "source": [
    "cv = KFold(n_splits=5, shuffle=True, random_state=42)\n",
    "\n",
    "pipeline = Pipeline(steps=[('imputer', IterativeImputer(random_state=42)), \n",
    "                           ('model', gb_model)])\n",
    "\n",
    "params = {\n",
    "    'imputer__estimator' : estimators,\n",
    "    'imputer__imputation_order' : ['ascending', 'descending'],\n",
    "    'imputer__max_iter' : np.arange(1, 5)\n",
    "}\n",
    "\n",
    "grid = GridSearchCV(pipeline, params, cv=cv, scoring='r2', n_jobs=-1)\n",
    "grid.fit(X_train, y_train)\n",
    "print('R2 train: %.4f' % grid.best_score_)\n",
    "print('R2 valid: %.4f' % grid.score(X_valid, y_valid))\n",
    "print(grid.best_params_)"
   ]
  },
  {
   "cell_type": "markdown",
   "metadata": {},
   "source": [
    "Лучше всего для заполнения пропусков подходит модель KNeighborsRegressor. Определим для нее оптимальный параметр n_neighbors."
   ]
  },
  {
   "cell_type": "code",
   "execution_count": 21,
   "metadata": {
    "colab": {},
    "colab_type": "code",
    "id": "6pkGRynKQdQi"
   },
   "outputs": [],
   "source": [
    "results = list()\n",
    "for n in np.arange(3, 21):\n",
    "    pipeline = Pipeline(steps=[('imputer', IterativeImputer(estimator=KNeighborsRegressor(\n",
    "                                                                        n_neighbors=n),\n",
    "                                                          imputation_order='descending',\n",
    "                                                          max_iter=1, \n",
    "                                                          random_state=42)), \n",
    "                               ('model', gb_model)])\n",
    "    pipeline.fit(X_train, y_train)\n",
    "    y_hat = pipeline.predict(X_valid)\n",
    "    results.append(r2_score(y_valid, y_hat))\n",
    "    \n",
    "res = pd.DataFrame(results, index=list(range(3, 21)))\n",
    "res = res.T.stack().reset_index(1)\n",
    "res.columns = ['n_neighbors', 'score']"
   ]
  },
  {
   "cell_type": "code",
   "execution_count": 22,
   "metadata": {
    "colab": {
     "base_uri": "https://localhost:8080/",
     "height": 270
    },
    "colab_type": "code",
    "id": "cF_zWIpNSH7v",
    "outputId": "561f10d0-5884-4097-fc2e-8459aa4c9805"
   },
   "outputs": [
    {
     "data": {
      "image/png": "[encoded data removed]",
      "text/plain": [
       "<Figure size 432x288 with 1 Axes>"
      ]
     },
     "metadata": {},
     "output_type": "display_data"
    }
   ],
   "source": [
    "sns.pointplot(x='n_neighbors', y='score', data=res, join=True, estimator=np.mean);"
   ]
  },
  {
   "cell_type": "markdown",
   "metadata": {
    "colab_type": "text",
    "id": "zTdOIsvZ_sV4"
   },
   "source": [
    "Таким образом, следующий пайплайн можно использовать для замены пропусков и предсказания цен на квартиры. А можно не заморачиваться и выкинуть эти признаки (R2=0.7436)"
   ]
  },
  {
   "cell_type": "code",
   "execution_count": 27,
   "metadata": {
    "colab": {
     "base_uri": "https://localhost:8080/",
     "height": 34
    },
    "colab_type": "code",
    "id": "A7JK6psH-vEy",
    "outputId": "833ac355-1985-4150-e872-d56045c221a2"
   },
   "outputs": [
    {
     "name": "stdout",
     "output_type": "stream",
     "text": [
      "R2: 0.7327\n"
     ]
    }
   ],
   "source": [
    "pipeline = Pipeline(steps=[('imputer', IterativeImputer(estimator=KNeighborsRegressor(n_neighbors=13),\n",
    "                                                          imputation_order='descending',\n",
    "                                                          max_iter=1, \n",
    "                                                          random_state=42)), \n",
    "                            ('model', gb_model)])\n",
    "pipeline.fit(X_train, y_train)\n",
    "y_hat = pipeline.predict(X_valid)\n",
    "print('R2: %.4f' % r2_score(y_valid, y_hat))"
   ]
  },
  {
   "cell_type": "markdown",
   "metadata": {
    "colab_type": "text",
    "id": "PQUPCq6h9MIw"
   },
   "source": [
    "Что еще можно проверить?\n",
    "\n",
    "- попробовать заполнить пропуски только в одном признаке.\n",
    "- использовать IterativeImputer с другими оценщиками."
   ]
  },
  {
   "cell_type": "code",
   "execution_count": null,
   "metadata": {
    "colab": {},
    "colab_type": "code",
    "id": "7jIf7Xcp-bhm"
   },
   "outputs": [],
   "source": []
  }
 ],
 "metadata": {
  "colab": {
   "collapsed_sections": [],
   "name": "Iterative Imputer example.ipynb",
   "provenance": []
  },
  "kernelspec": {
   "display_name": "Python 3",
   "language": "python",
   "name": "python3"
  },
  "language_info": {
   "codemirror_mode": {
    "name": "ipython",
    "version": 3
   },
   "file_extension": ".py",
   "mimetype": "text/x-python",
   "name": "python",
   "nbconvert_exporter": "python",
   "pygments_lexer": "ipython3",
   "version": "3.7.3"
  },
  "toc": {
   "base_numbering": 1,
   "nav_menu": {},
   "number_sections": false,
   "sideBar": true,
   "skip_h1_title": true,
   "title_cell": "Содержание",
   "title_sidebar": "Содержание",
   "toc_cell": false,
   "toc_position": {},
   "toc_section_display": true,
   "toc_window_display": false
  }
 },
 "nbformat": 4,
 "nbformat_minor": 1
}
