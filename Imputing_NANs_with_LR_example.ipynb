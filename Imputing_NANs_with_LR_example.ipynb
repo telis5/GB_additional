{
 "cells": [
  {
   "cell_type": "markdown",
   "metadata": {
    "colab_type": "text",
    "id": "dS36jQwxn_l2"
   },
   "source": [
    "# Замена пропусков с использованием предсказательной модели\n",
    "\n",
    "## Imputing missing values using a predictive model\n",
    "\n",
    "\n"
   ]
  },
  {
   "cell_type": "markdown",
   "metadata": {},
   "source": [
    "В этом блокноте сравним два способа замены пропусков:\n",
    "\n",
    "- замена средним арифметическим;\n",
    "- замена с использованием предсказательной модели, а именно линейной регрессии."
   ]
  },
  {
   "cell_type": "markdown",
   "metadata": {
    "colab_type": "text",
    "id": "RE-6pKUhn_l9"
   },
   "source": [
    "**Подключение библиотек и скриптов**"
   ]
  },
  {
   "cell_type": "code",
   "execution_count": 1,
   "metadata": {
    "colab": {},
    "colab_type": "code",
    "id": "tvDPmcQOn_mA"
   },
   "outputs": [],
   "source": [
    "import warnings\n",
    "warnings.filterwarnings('ignore')\n",
    "\n",
    "import numpy as np\n",
    "import pandas as pd\n",
    "import random\n",
    "\n",
    "from sklearn.model_selection import cross_val_score\n",
    "from sklearn.linear_model import LinearRegression\n",
    "from sklearn.ensemble import GradientBoostingRegressor\n",
    "from sklearn.metrics import r2_score\n",
    "from sklearn.model_selection import KFold\n",
    "\n",
    "import matplotlib\n",
    "import matplotlib.pyplot as plt\n",
    "import seaborn as sns\n",
    "%matplotlib inline"
   ]
  },
  {
   "cell_type": "code",
   "execution_count": 2,
   "metadata": {
    "colab": {},
    "colab_type": "code",
    "id": "gaotSIpxn_mG"
   },
   "outputs": [],
   "source": [
    "sns.set(style='whitegrid')\n",
    "sns.set_context(\"paper\", font_scale=1.5)  \n",
    "pd.options.display.float_format = '{:,.4f}'.format\n",
    "plt.rcParams['figure.figsize'] = (6, 4)\n",
    "matplotlib.rcParams.update({'font.size': 14})"
   ]
  },
  {
   "cell_type": "markdown",
   "metadata": {
    "colab_type": "text",
    "id": "qE5F4wz3n_mM"
   },
   "source": [
    "### Загрузка датасета"
   ]
  },
  {
   "cell_type": "code",
   "execution_count": 3,
   "metadata": {
    "colab": {},
    "colab_type": "code",
    "id": "KaWi5P51n_mN"
   },
   "outputs": [],
   "source": [
    "TRAIN_DATASET_PATH = '../project/train.csv'\n",
    "TEST_DATASET_PATH = '../project/test.csv'"
   ]
  },
  {
   "cell_type": "code",
   "execution_count": 4,
   "metadata": {
    "colab": {
     "base_uri": "https://localhost:8080/",
     "height": 34
    },
    "colab_type": "code",
    "id": "iHMwyCY8af_3",
    "outputId": "5c3da4d9-1d2a-4276-8431-4a050bf39363",
    "scrolled": true
   },
   "outputs": [
    {
     "data": {
      "text/html": [
       "<div>\n",
       "<style scoped>\n",
       "    .dataframe tbody tr th:only-of-type {\n",
       "        vertical-align: middle;\n",
       "    }\n",
       "\n",
       "    .dataframe tbody tr th {\n",
       "        vertical-align: top;\n",
       "    }\n",
       "\n",
       "    .dataframe thead th {\n",
       "        text-align: right;\n",
       "    }\n",
       "</style>\n",
       "<table border=\"1\" class=\"dataframe\">\n",
       "  <thead>\n",
       "    <tr style=\"text-align: right;\">\n",
       "      <th></th>\n",
       "      <th>DistrictId</th>\n",
       "      <th>Rooms</th>\n",
       "      <th>Square</th>\n",
       "      <th>LifeSquare</th>\n",
       "      <th>KitchenSquare</th>\n",
       "      <th>Floor</th>\n",
       "      <th>HouseFloor</th>\n",
       "      <th>HouseYear</th>\n",
       "      <th>Ecology_1</th>\n",
       "      <th>Ecology_2</th>\n",
       "      <th>Ecology_3</th>\n",
       "      <th>Social_1</th>\n",
       "      <th>Social_2</th>\n",
       "      <th>Social_3</th>\n",
       "      <th>Healthcare_1</th>\n",
       "      <th>Helthcare_2</th>\n",
       "      <th>Shops_1</th>\n",
       "      <th>Shops_2</th>\n",
       "      <th>Price</th>\n",
       "    </tr>\n",
       "    <tr>\n",
       "      <th>Id</th>\n",
       "      <th></th>\n",
       "      <th></th>\n",
       "      <th></th>\n",
       "      <th></th>\n",
       "      <th></th>\n",
       "      <th></th>\n",
       "      <th></th>\n",
       "      <th></th>\n",
       "      <th></th>\n",
       "      <th></th>\n",
       "      <th></th>\n",
       "      <th></th>\n",
       "      <th></th>\n",
       "      <th></th>\n",
       "      <th></th>\n",
       "      <th></th>\n",
       "      <th></th>\n",
       "      <th></th>\n",
       "      <th></th>\n",
       "    </tr>\n",
       "  </thead>\n",
       "  <tbody>\n",
       "    <tr>\n",
       "      <th>14038</th>\n",
       "      <td>35</td>\n",
       "      <td>2.0000</td>\n",
       "      <td>47.9816</td>\n",
       "      <td>29.4428</td>\n",
       "      <td>6.0000</td>\n",
       "      <td>7</td>\n",
       "      <td>9.0000</td>\n",
       "      <td>1969</td>\n",
       "      <td>0.0890</td>\n",
       "      <td>B</td>\n",
       "      <td>B</td>\n",
       "      <td>33</td>\n",
       "      <td>7976</td>\n",
       "      <td>5</td>\n",
       "      <td>nan</td>\n",
       "      <td>0</td>\n",
       "      <td>11</td>\n",
       "      <td>B</td>\n",
       "      <td>184,966.9307</td>\n",
       "    </tr>\n",
       "    <tr>\n",
       "      <th>15053</th>\n",
       "      <td>41</td>\n",
       "      <td>3.0000</td>\n",
       "      <td>65.6836</td>\n",
       "      <td>40.0495</td>\n",
       "      <td>8.0000</td>\n",
       "      <td>7</td>\n",
       "      <td>9.0000</td>\n",
       "      <td>1978</td>\n",
       "      <td>0.0001</td>\n",
       "      <td>B</td>\n",
       "      <td>B</td>\n",
       "      <td>46</td>\n",
       "      <td>10309</td>\n",
       "      <td>1</td>\n",
       "      <td>240.0000</td>\n",
       "      <td>1</td>\n",
       "      <td>16</td>\n",
       "      <td>B</td>\n",
       "      <td>300,009.4501</td>\n",
       "    </tr>\n",
       "    <tr>\n",
       "      <th>4765</th>\n",
       "      <td>53</td>\n",
       "      <td>2.0000</td>\n",
       "      <td>44.9480</td>\n",
       "      <td>29.1976</td>\n",
       "      <td>0.0000</td>\n",
       "      <td>8</td>\n",
       "      <td>12.0000</td>\n",
       "      <td>1968</td>\n",
       "      <td>0.0496</td>\n",
       "      <td>B</td>\n",
       "      <td>B</td>\n",
       "      <td>34</td>\n",
       "      <td>7759</td>\n",
       "      <td>0</td>\n",
       "      <td>229.0000</td>\n",
       "      <td>1</td>\n",
       "      <td>3</td>\n",
       "      <td>B</td>\n",
       "      <td>220,925.9085</td>\n",
       "    </tr>\n",
       "    <tr>\n",
       "      <th>5809</th>\n",
       "      <td>58</td>\n",
       "      <td>2.0000</td>\n",
       "      <td>53.3530</td>\n",
       "      <td>52.7315</td>\n",
       "      <td>9.0000</td>\n",
       "      <td>8</td>\n",
       "      <td>17.0000</td>\n",
       "      <td>1977</td>\n",
       "      <td>0.4379</td>\n",
       "      <td>B</td>\n",
       "      <td>B</td>\n",
       "      <td>23</td>\n",
       "      <td>5735</td>\n",
       "      <td>3</td>\n",
       "      <td>1,084.0000</td>\n",
       "      <td>0</td>\n",
       "      <td>5</td>\n",
       "      <td>B</td>\n",
       "      <td>175,616.2272</td>\n",
       "    </tr>\n",
       "    <tr>\n",
       "      <th>10783</th>\n",
       "      <td>99</td>\n",
       "      <td>1.0000</td>\n",
       "      <td>39.6492</td>\n",
       "      <td>23.7762</td>\n",
       "      <td>7.0000</td>\n",
       "      <td>11</td>\n",
       "      <td>12.0000</td>\n",
       "      <td>1976</td>\n",
       "      <td>0.0123</td>\n",
       "      <td>B</td>\n",
       "      <td>B</td>\n",
       "      <td>35</td>\n",
       "      <td>5776</td>\n",
       "      <td>1</td>\n",
       "      <td>2,078.0000</td>\n",
       "      <td>2</td>\n",
       "      <td>4</td>\n",
       "      <td>B</td>\n",
       "      <td>150,226.5316</td>\n",
       "    </tr>\n",
       "  </tbody>\n",
       "</table>\n",
       "</div>"
      ],
      "text/plain": [
       "       DistrictId  Rooms  Square  LifeSquare  KitchenSquare  Floor  \\\n",
       "Id                                                                   \n",
       "14038          35 2.0000 47.9816     29.4428         6.0000      7   \n",
       "15053          41 3.0000 65.6836     40.0495         8.0000      7   \n",
       "4765           53 2.0000 44.9480     29.1976         0.0000      8   \n",
       "5809           58 2.0000 53.3530     52.7315         9.0000      8   \n",
       "10783          99 1.0000 39.6492     23.7762         7.0000     11   \n",
       "\n",
       "       HouseFloor  HouseYear  Ecology_1 Ecology_2 Ecology_3  Social_1  \\\n",
       "Id                                                                      \n",
       "14038      9.0000       1969     0.0890         B         B        33   \n",
       "15053      9.0000       1978     0.0001         B         B        46   \n",
       "4765      12.0000       1968     0.0496         B         B        34   \n",
       "5809      17.0000       1977     0.4379         B         B        23   \n",
       "10783     12.0000       1976     0.0123         B         B        35   \n",
       "\n",
       "       Social_2  Social_3  Healthcare_1  Helthcare_2  Shops_1 Shops_2  \\\n",
       "Id                                                                      \n",
       "14038      7976         5           nan            0       11       B   \n",
       "15053     10309         1      240.0000            1       16       B   \n",
       "4765       7759         0      229.0000            1        3       B   \n",
       "5809       5735         3    1,084.0000            0        5       B   \n",
       "10783      5776         1    2,078.0000            2        4       B   \n",
       "\n",
       "             Price  \n",
       "Id                  \n",
       "14038 184,966.9307  \n",
       "15053 300,009.4501  \n",
       "4765  220,925.9085  \n",
       "5809  175,616.2272  \n",
       "10783 150,226.5316  "
      ]
     },
     "execution_count": 4,
     "metadata": {},
     "output_type": "execute_result"
    }
   ],
   "source": [
    "train = pd.read_csv(TRAIN_DATASET_PATH, index_col='Id')\n",
    "train.head()"
   ]
  },
  {
   "cell_type": "markdown",
   "metadata": {
    "colab_type": "text",
    "id": "gdlhKyxSn_mW"
   },
   "source": [
    "**Описание датасета**\n",
    "\n",
    "* **Id** - идентификационный номер квартиры\n",
    "* **DistrictId** - идентификационный номер района\n",
    "* **Rooms** - количество комнат\n",
    "* **Square** - площадь\n",
    "* **LifeSquare** - жилая площадь\n",
    "* **KitchenSquare** - площадь кухни\n",
    "* **Floor** - этаж\n",
    "* **HouseFloor** - количество этажей в доме\n",
    "* **HouseYear** - год постройки дома\n",
    "* **Ecology_1, Ecology_2, Ecology_3** - экологические показатели местности\n",
    "* **Social_1, Social_2, Social_3** - социальные показатели местности\n",
    "* **Healthcare_1, Helthcare_2** - показатели местности, связанные с охраной здоровья\n",
    "* **Shops_1, Shops_2** - показатели, связанные с наличием магазинов, торговых центров\n",
    "* **Price** - цена квартиры"
   ]
  },
  {
   "cell_type": "code",
   "execution_count": 5,
   "metadata": {
    "colab": {
     "base_uri": "https://localhost:8080/",
     "height": 34
    },
    "colab_type": "code",
    "id": "b9AoE0rDn_mg",
    "outputId": "b7b5717c-50f0-4985-b3d6-4b888af57c90"
   },
   "outputs": [
    {
     "data": {
      "text/plain": [
       "(10000, 19)"
      ]
     },
     "execution_count": 5,
     "metadata": {},
     "output_type": "execute_result"
    }
   ],
   "source": [
    "train.shape"
   ]
  },
  {
   "cell_type": "markdown",
   "metadata": {
    "colab_type": "text",
    "id": "N6sHUQgzn_mu"
   },
   "source": [
    "### Приведение типов"
   ]
  },
  {
   "cell_type": "markdown",
   "metadata": {},
   "source": [
    "Заменим категории числами в трех признаках."
   ]
  },
  {
   "cell_type": "code",
   "execution_count": 6,
   "metadata": {
    "colab": {},
    "colab_type": "code",
    "id": "JDpmPqf7n_mz"
   },
   "outputs": [],
   "source": [
    "feature_bin_names = ['Ecology_2', 'Ecology_3', 'Shops_2']\n",
    "train[feature_bin_names] = train[feature_bin_names].replace({'A':0, 'B':1})"
   ]
  },
  {
   "cell_type": "markdown",
   "metadata": {
    "colab_type": "text",
    "id": "qU-w4Msgn_n8"
   },
   "source": [
    "### Обработка пропусков"
   ]
  },
  {
   "cell_type": "code",
   "execution_count": 7,
   "metadata": {
    "colab": {
     "base_uri": "https://localhost:8080/",
     "height": 67
    },
    "colab_type": "code",
    "id": "kag7NEqGn_n9",
    "outputId": "6a1b64da-6218-4e70-833c-c27bc6c5c6ef"
   },
   "outputs": [
    {
     "data": {
      "text/plain": [
       "LifeSquare      2113\n",
       "Healthcare_1    4798\n",
       "dtype: int64"
      ]
     },
     "execution_count": 7,
     "metadata": {},
     "output_type": "execute_result"
    }
   ],
   "source": [
    "train.isna().sum()[train.isna().sum() != 0]"
   ]
  },
  {
   "cell_type": "markdown",
   "metadata": {},
   "source": [
    "Пропуски содержат две переменные. В этом блокноте будем заменять пропуски в `LifeSquare`."
   ]
  },
  {
   "cell_type": "markdown",
   "metadata": {
    "colab_type": "text",
    "id": "wodeIMqSfi2V"
   },
   "source": [
    "**Базовый вариант** - обучим модель на данных без признаков с пропусками и проверим точность предсказания. Все последующие варианты замен будем сравнивать с полученным значением метрики."
   ]
  },
  {
   "cell_type": "code",
   "execution_count": 8,
   "metadata": {
    "colab": {},
    "colab_type": "code",
    "id": "CO1yjefeigLa"
   },
   "outputs": [],
   "source": [
    "feature_names = train.drop(['LifeSquare', 'Healthcare_1', 'DistrictId', 'Price'], axis=1).columns.to_list()\n",
    "target_name = ['Price']\n",
    "\n",
    "X = train[feature_names]\n",
    "y = train[target_name]"
   ]
  },
  {
   "cell_type": "markdown",
   "metadata": {},
   "source": [
    "Для предсказания используем `GradientBoostingRegressor`."
   ]
  },
  {
   "cell_type": "code",
   "execution_count": 9,
   "metadata": {
    "colab": {},
    "colab_type": "code",
    "id": "DK2viwczfwx1"
   },
   "outputs": [],
   "source": [
    "gb_model = GradientBoostingRegressor(random_state=42)"
   ]
  },
  {
   "cell_type": "markdown",
   "metadata": {},
   "source": [
    "Точность предсказания оценим по метрике $R^2$ с использованием кросс-валидации."
   ]
  },
  {
   "cell_type": "code",
   "execution_count": 10,
   "metadata": {
    "colab": {
     "base_uri": "https://localhost:8080/",
     "height": 34
    },
    "colab_type": "code",
    "id": "3IHBq300fEbH",
    "outputId": "6371285e-7f5f-4dd1-d8e5-d0afb2dc7861"
   },
   "outputs": [
    {
     "name": "stdout",
     "output_type": "stream",
     "text": [
      "R2: 0.7176\n"
     ]
    }
   ],
   "source": [
    "cv = KFold(n_splits=5, shuffle=True, random_state=42)\n",
    "\n",
    "scores_0 = cross_val_score(gb_model, X, y, scoring='r2', cv=cv)\n",
    "print('R2: %.4f' % scores_0.mean())"
   ]
  },
  {
   "cell_type": "markdown",
   "metadata": {
    "colab_type": "text",
    "id": "8WRYXKXckPHW"
   },
   "source": [
    "### Предобработка данных"
   ]
  },
  {
   "cell_type": "markdown",
   "metadata": {},
   "source": [
    "Для предсказания с использованием линейной регрессии нам понадобится переменная, имеющая сильную линейную корреляцию с `LifeSquare`. Логично предположить, что это общая площадь - `Square`. Проверим коэффициент корреляции между этими признаками."
   ]
  },
  {
   "cell_type": "code",
   "execution_count": 11,
   "metadata": {},
   "outputs": [
    {
     "data": {
      "text/plain": [
       "0.1961288217836941"
      ]
     },
     "execution_count": 11,
     "metadata": {},
     "output_type": "execute_result"
    }
   ],
   "source": [
    "train.corr()['LifeSquare']['Square']"
   ]
  },
  {
   "cell_type": "markdown",
   "metadata": {},
   "source": [
    "Подозрительно маленькое значение. Проверим визуально взаимосвязь между этими признаками."
   ]
  },
  {
   "cell_type": "code",
   "execution_count": 12,
   "metadata": {},
   "outputs": [
    {
     "data": {
      "image/png": "[encoded data removed]",
      "text/plain": [
       "<Figure size 432x432 with 3 Axes>"
      ]
     },
     "metadata": {},
     "output_type": "display_data"
    }
   ],
   "source": [
    "sns.jointplot(train['Square'], train['LifeSquare']);"
   ]
  },
  {
   "cell_type": "markdown",
   "metadata": {},
   "source": [
    "Видим выбросы, которые портят зависимость. Выловим и удалим их."
   ]
  },
  {
   "cell_type": "code",
   "execution_count": 13,
   "metadata": {},
   "outputs": [
    {
     "data": {
      "text/html": [
       "<div>\n",
       "<style scoped>\n",
       "    .dataframe tbody tr th:only-of-type {\n",
       "        vertical-align: middle;\n",
       "    }\n",
       "\n",
       "    .dataframe tbody tr th {\n",
       "        vertical-align: top;\n",
       "    }\n",
       "\n",
       "    .dataframe thead th {\n",
       "        text-align: right;\n",
       "    }\n",
       "</style>\n",
       "<table border=\"1\" class=\"dataframe\">\n",
       "  <thead>\n",
       "    <tr style=\"text-align: right;\">\n",
       "      <th></th>\n",
       "      <th>DistrictId</th>\n",
       "      <th>Rooms</th>\n",
       "      <th>Square</th>\n",
       "      <th>LifeSquare</th>\n",
       "      <th>KitchenSquare</th>\n",
       "      <th>Floor</th>\n",
       "      <th>HouseFloor</th>\n",
       "      <th>HouseYear</th>\n",
       "      <th>Ecology_1</th>\n",
       "      <th>Ecology_2</th>\n",
       "      <th>Ecology_3</th>\n",
       "      <th>Social_1</th>\n",
       "      <th>Social_2</th>\n",
       "      <th>Social_3</th>\n",
       "      <th>Healthcare_1</th>\n",
       "      <th>Helthcare_2</th>\n",
       "      <th>Shops_1</th>\n",
       "      <th>Shops_2</th>\n",
       "      <th>Price</th>\n",
       "    </tr>\n",
       "    <tr>\n",
       "      <th>Id</th>\n",
       "      <th></th>\n",
       "      <th></th>\n",
       "      <th></th>\n",
       "      <th></th>\n",
       "      <th></th>\n",
       "      <th></th>\n",
       "      <th></th>\n",
       "      <th></th>\n",
       "      <th></th>\n",
       "      <th></th>\n",
       "      <th></th>\n",
       "      <th></th>\n",
       "      <th></th>\n",
       "      <th></th>\n",
       "      <th></th>\n",
       "      <th></th>\n",
       "      <th></th>\n",
       "      <th></th>\n",
       "      <th></th>\n",
       "    </tr>\n",
       "  </thead>\n",
       "  <tbody>\n",
       "    <tr>\n",
       "      <th>28</th>\n",
       "      <td>9</td>\n",
       "      <td>2.0000</td>\n",
       "      <td>604.7060</td>\n",
       "      <td>nan</td>\n",
       "      <td>1.0000</td>\n",
       "      <td>17</td>\n",
       "      <td>18.0000</td>\n",
       "      <td>1977</td>\n",
       "      <td>0.1615</td>\n",
       "      <td>1</td>\n",
       "      <td>1</td>\n",
       "      <td>25</td>\n",
       "      <td>5648</td>\n",
       "      <td>1</td>\n",
       "      <td>30.0000</td>\n",
       "      <td>2</td>\n",
       "      <td>4</td>\n",
       "      <td>1</td>\n",
       "      <td>187,717.2425</td>\n",
       "    </tr>\n",
       "    <tr>\n",
       "      <th>2307</th>\n",
       "      <td>102</td>\n",
       "      <td>1.0000</td>\n",
       "      <td>409.4252</td>\n",
       "      <td>410.6397</td>\n",
       "      <td>10.0000</td>\n",
       "      <td>4</td>\n",
       "      <td>4.0000</td>\n",
       "      <td>2016</td>\n",
       "      <td>0.2386</td>\n",
       "      <td>1</td>\n",
       "      <td>1</td>\n",
       "      <td>26</td>\n",
       "      <td>3889</td>\n",
       "      <td>6</td>\n",
       "      <td>705.0000</td>\n",
       "      <td>3</td>\n",
       "      <td>6</td>\n",
       "      <td>1</td>\n",
       "      <td>90,470.4308</td>\n",
       "    </tr>\n",
       "    <tr>\n",
       "      <th>11602</th>\n",
       "      <td>30</td>\n",
       "      <td>2.0000</td>\n",
       "      <td>641.0652</td>\n",
       "      <td>638.1632</td>\n",
       "      <td>10.0000</td>\n",
       "      <td>20</td>\n",
       "      <td>19.0000</td>\n",
       "      <td>2019</td>\n",
       "      <td>0.0001</td>\n",
       "      <td>1</td>\n",
       "      <td>1</td>\n",
       "      <td>22</td>\n",
       "      <td>6398</td>\n",
       "      <td>141</td>\n",
       "      <td>1,046.0000</td>\n",
       "      <td>3</td>\n",
       "      <td>23</td>\n",
       "      <td>1</td>\n",
       "      <td>133,529.6816</td>\n",
       "    </tr>\n",
       "  </tbody>\n",
       "</table>\n",
       "</div>"
      ],
      "text/plain": [
       "       DistrictId  Rooms   Square  LifeSquare  KitchenSquare  Floor  \\\n",
       "Id                                                                    \n",
       "28              9 2.0000 604.7060         nan         1.0000     17   \n",
       "2307          102 1.0000 409.4252    410.6397        10.0000      4   \n",
       "11602          30 2.0000 641.0652    638.1632        10.0000     20   \n",
       "\n",
       "       HouseFloor  HouseYear  Ecology_1  Ecology_2  Ecology_3  Social_1  \\\n",
       "Id                                                                        \n",
       "28        18.0000       1977     0.1615          1          1        25   \n",
       "2307       4.0000       2016     0.2386          1          1        26   \n",
       "11602     19.0000       2019     0.0001          1          1        22   \n",
       "\n",
       "       Social_2  Social_3  Healthcare_1  Helthcare_2  Shops_1  Shops_2  \\\n",
       "Id                                                                       \n",
       "28         5648         1       30.0000            2        4        1   \n",
       "2307       3889         6      705.0000            3        6        1   \n",
       "11602      6398       141    1,046.0000            3       23        1   \n",
       "\n",
       "             Price  \n",
       "Id                  \n",
       "28    187,717.2425  \n",
       "2307   90,470.4308  \n",
       "11602 133,529.6816  "
      ]
     },
     "execution_count": 13,
     "metadata": {},
     "output_type": "execute_result"
    }
   ],
   "source": [
    "train.loc[train['Square'] > 300]"
   ]
  },
  {
   "cell_type": "markdown",
   "metadata": {},
   "source": [
    "Слишком низкая цена и небольшое количество комнат для таких больших площадей. "
   ]
  },
  {
   "cell_type": "code",
   "execution_count": 14,
   "metadata": {},
   "outputs": [
    {
     "data": {
      "text/html": [
       "<div>\n",
       "<style scoped>\n",
       "    .dataframe tbody tr th:only-of-type {\n",
       "        vertical-align: middle;\n",
       "    }\n",
       "\n",
       "    .dataframe tbody tr th {\n",
       "        vertical-align: top;\n",
       "    }\n",
       "\n",
       "    .dataframe thead th {\n",
       "        text-align: right;\n",
       "    }\n",
       "</style>\n",
       "<table border=\"1\" class=\"dataframe\">\n",
       "  <thead>\n",
       "    <tr style=\"text-align: right;\">\n",
       "      <th></th>\n",
       "      <th>DistrictId</th>\n",
       "      <th>Rooms</th>\n",
       "      <th>Square</th>\n",
       "      <th>LifeSquare</th>\n",
       "      <th>KitchenSquare</th>\n",
       "      <th>Floor</th>\n",
       "      <th>HouseFloor</th>\n",
       "      <th>HouseYear</th>\n",
       "      <th>Ecology_1</th>\n",
       "      <th>Ecology_2</th>\n",
       "      <th>Ecology_3</th>\n",
       "      <th>Social_1</th>\n",
       "      <th>Social_2</th>\n",
       "      <th>Social_3</th>\n",
       "      <th>Healthcare_1</th>\n",
       "      <th>Helthcare_2</th>\n",
       "      <th>Shops_1</th>\n",
       "      <th>Shops_2</th>\n",
       "      <th>Price</th>\n",
       "    </tr>\n",
       "    <tr>\n",
       "      <th>Id</th>\n",
       "      <th></th>\n",
       "      <th></th>\n",
       "      <th></th>\n",
       "      <th></th>\n",
       "      <th></th>\n",
       "      <th></th>\n",
       "      <th></th>\n",
       "      <th></th>\n",
       "      <th></th>\n",
       "      <th></th>\n",
       "      <th></th>\n",
       "      <th></th>\n",
       "      <th></th>\n",
       "      <th></th>\n",
       "      <th></th>\n",
       "      <th></th>\n",
       "      <th></th>\n",
       "      <th></th>\n",
       "      <th></th>\n",
       "    </tr>\n",
       "  </thead>\n",
       "  <tbody>\n",
       "    <tr>\n",
       "      <th>14990</th>\n",
       "      <td>23</td>\n",
       "      <td>2.0000</td>\n",
       "      <td>48.4499</td>\n",
       "      <td>263.5420</td>\n",
       "      <td>5.0000</td>\n",
       "      <td>6</td>\n",
       "      <td>5.0000</td>\n",
       "      <td>1972</td>\n",
       "      <td>0.0758</td>\n",
       "      <td>1</td>\n",
       "      <td>1</td>\n",
       "      <td>6</td>\n",
       "      <td>1437</td>\n",
       "      <td>3</td>\n",
       "      <td>nan</td>\n",
       "      <td>0</td>\n",
       "      <td>2</td>\n",
       "      <td>1</td>\n",
       "      <td>141,780.2319</td>\n",
       "    </tr>\n",
       "    <tr>\n",
       "      <th>16550</th>\n",
       "      <td>27</td>\n",
       "      <td>3.0000</td>\n",
       "      <td>81.6944</td>\n",
       "      <td>7,480.5921</td>\n",
       "      <td>1.0000</td>\n",
       "      <td>9</td>\n",
       "      <td>17.0000</td>\n",
       "      <td>2016</td>\n",
       "      <td>0.0176</td>\n",
       "      <td>1</td>\n",
       "      <td>1</td>\n",
       "      <td>2</td>\n",
       "      <td>469</td>\n",
       "      <td>0</td>\n",
       "      <td>nan</td>\n",
       "      <td>0</td>\n",
       "      <td>0</td>\n",
       "      <td>1</td>\n",
       "      <td>217,357.4924</td>\n",
       "    </tr>\n",
       "    <tr>\n",
       "      <th>2307</th>\n",
       "      <td>102</td>\n",
       "      <td>1.0000</td>\n",
       "      <td>409.4252</td>\n",
       "      <td>410.6397</td>\n",
       "      <td>10.0000</td>\n",
       "      <td>4</td>\n",
       "      <td>4.0000</td>\n",
       "      <td>2016</td>\n",
       "      <td>0.2386</td>\n",
       "      <td>1</td>\n",
       "      <td>1</td>\n",
       "      <td>26</td>\n",
       "      <td>3889</td>\n",
       "      <td>6</td>\n",
       "      <td>705.0000</td>\n",
       "      <td>3</td>\n",
       "      <td>6</td>\n",
       "      <td>1</td>\n",
       "      <td>90,470.4308</td>\n",
       "    </tr>\n",
       "    <tr>\n",
       "      <th>11602</th>\n",
       "      <td>30</td>\n",
       "      <td>2.0000</td>\n",
       "      <td>641.0652</td>\n",
       "      <td>638.1632</td>\n",
       "      <td>10.0000</td>\n",
       "      <td>20</td>\n",
       "      <td>19.0000</td>\n",
       "      <td>2019</td>\n",
       "      <td>0.0001</td>\n",
       "      <td>1</td>\n",
       "      <td>1</td>\n",
       "      <td>22</td>\n",
       "      <td>6398</td>\n",
       "      <td>141</td>\n",
       "      <td>1,046.0000</td>\n",
       "      <td>3</td>\n",
       "      <td>23</td>\n",
       "      <td>1</td>\n",
       "      <td>133,529.6816</td>\n",
       "    </tr>\n",
       "    <tr>\n",
       "      <th>15886</th>\n",
       "      <td>85</td>\n",
       "      <td>3.0000</td>\n",
       "      <td>78.0593</td>\n",
       "      <td>461.4636</td>\n",
       "      <td>10.0000</td>\n",
       "      <td>12</td>\n",
       "      <td>16.0000</td>\n",
       "      <td>1998</td>\n",
       "      <td>0.0372</td>\n",
       "      <td>1</td>\n",
       "      <td>1</td>\n",
       "      <td>52</td>\n",
       "      <td>11217</td>\n",
       "      <td>1</td>\n",
       "      <td>2,300.0000</td>\n",
       "      <td>1</td>\n",
       "      <td>7</td>\n",
       "      <td>1</td>\n",
       "      <td>394,253.3000</td>\n",
       "    </tr>\n",
       "  </tbody>\n",
       "</table>\n",
       "</div>"
      ],
      "text/plain": [
       "       DistrictId  Rooms   Square  LifeSquare  KitchenSquare  Floor  \\\n",
       "Id                                                                    \n",
       "14990          23 2.0000  48.4499    263.5420         5.0000      6   \n",
       "16550          27 3.0000  81.6944  7,480.5921         1.0000      9   \n",
       "2307          102 1.0000 409.4252    410.6397        10.0000      4   \n",
       "11602          30 2.0000 641.0652    638.1632        10.0000     20   \n",
       "15886          85 3.0000  78.0593    461.4636        10.0000     12   \n",
       "\n",
       "       HouseFloor  HouseYear  Ecology_1  Ecology_2  Ecology_3  Social_1  \\\n",
       "Id                                                                        \n",
       "14990      5.0000       1972     0.0758          1          1         6   \n",
       "16550     17.0000       2016     0.0176          1          1         2   \n",
       "2307       4.0000       2016     0.2386          1          1        26   \n",
       "11602     19.0000       2019     0.0001          1          1        22   \n",
       "15886     16.0000       1998     0.0372          1          1        52   \n",
       "\n",
       "       Social_2  Social_3  Healthcare_1  Helthcare_2  Shops_1  Shops_2  \\\n",
       "Id                                                                       \n",
       "14990      1437         3           nan            0        2        1   \n",
       "16550       469         0           nan            0        0        1   \n",
       "2307       3889         6      705.0000            3        6        1   \n",
       "11602      6398       141    1,046.0000            3       23        1   \n",
       "15886     11217         1    2,300.0000            1        7        1   \n",
       "\n",
       "             Price  \n",
       "Id                  \n",
       "14990 141,780.2319  \n",
       "16550 217,357.4924  \n",
       "2307   90,470.4308  \n",
       "11602 133,529.6816  \n",
       "15886 394,253.3000  "
      ]
     },
     "execution_count": 14,
     "metadata": {},
     "output_type": "execute_result"
    }
   ],
   "source": [
    "train.loc[train['LifeSquare'] > 250]"
   ]
  },
  {
   "cell_type": "markdown",
   "metadata": {},
   "source": [
    "Либо цена низкая, либо жилая площадь сильно превышает общую.\n",
    "\n",
    "Найдем индексы строк с аномальными квартирами и удалим их."
   ]
  },
  {
   "cell_type": "code",
   "execution_count": 15,
   "metadata": {},
   "outputs": [
    {
     "name": "stdout",
     "output_type": "stream",
     "text": [
      "Int64Index([14990, 28, 16550, 2307, 11602, 15886], dtype='int64', name='Id')\n"
     ]
    },
    {
     "data": {
      "text/plain": [
       "(9994, 19)"
      ]
     },
     "execution_count": 15,
     "metadata": {},
     "output_type": "execute_result"
    }
   ],
   "source": [
    "drop_index_list = train.loc[(train['Square'] > 300) | (train['LifeSquare'] > 250)].index\n",
    "print(drop_index_list)\n",
    "train.drop(index=drop_index_list, axis=0, inplace=True)\n",
    "train.shape"
   ]
  },
  {
   "cell_type": "markdown",
   "metadata": {},
   "source": [
    "Удалили шесть строк из датасета $train$. Посмотрим, как это отразится на линейном коэффициенте корреляции и на графике."
   ]
  },
  {
   "cell_type": "code",
   "execution_count": 16,
   "metadata": {},
   "outputs": [
    {
     "data": {
      "text/plain": [
       "0.7650482431544001"
      ]
     },
     "execution_count": 16,
     "metadata": {},
     "output_type": "execute_result"
    }
   ],
   "source": [
    "train.corr()['LifeSquare']['Square']"
   ]
  },
  {
   "cell_type": "code",
   "execution_count": 17,
   "metadata": {},
   "outputs": [
    {
     "data": {
      "image/png": "[encoded data removed]",
      "text/plain": [
       "<Figure size 432x432 with 3 Axes>"
      ]
     },
     "metadata": {},
     "output_type": "display_data"
    }
   ],
   "source": [
    "sns.jointplot(train['Square'], train['LifeSquare'], kind='reg');"
   ]
  },
  {
   "cell_type": "markdown",
   "metadata": {},
   "source": [
    "Стало намного лучше. Можно еще почистить датасет, но вернемся к задаче - к замене пропусков."
   ]
  },
  {
   "cell_type": "markdown",
   "metadata": {},
   "source": [
    "**1 вариант** - заменим пропуски средней арифметической. Создадим новую переменную - `LifeSquare_mean`, копию `LifeSquare`. В ней произведем замену, чтобы не испортить исходный столбец.\n",
    "\n",
    "Еще добавим столбец `LifeSquare_nan`, чтобы знать, где были пропуски в столбце `LifeSquare` (делать не обязательно, пригодится только для построения графика).\n"
   ]
  },
  {
   "cell_type": "code",
   "execution_count": 18,
   "metadata": {},
   "outputs": [],
   "source": [
    "train['LifeSquare_mean'] = train['LifeSquare'] \n",
    "train['LifeSquare_mean'].fillna(train['LifeSquare'].mean(), inplace=True)\n",
    "\n",
    "train['LifeSquare_nan'] = np.where(train['LifeSquare'].isna(), 1, 0)"
   ]
  },
  {
   "cell_type": "code",
   "execution_count": 19,
   "metadata": {
    "scrolled": true
   },
   "outputs": [
    {
     "data": {
      "image/png": "[encoded data removed]",
      "text/plain": [
       "<Figure size 528.685x360 with 1 Axes>"
      ]
     },
     "metadata": {},
     "output_type": "display_data"
    }
   ],
   "source": [
    "sns.lmplot(data=train, x='Square', y='LifeSquare_mean', hue='LifeSquare_nan', aspect=1.2);"
   ]
  },
  {
   "cell_type": "markdown",
   "metadata": {},
   "source": [
    "Видим точки, полученные в ходе такой замены. Теперь добавим к массиву $X$ столбец `LifeSquare_mean` и снова обучим алгоритм и предскажем цену квартиры."
   ]
  },
  {
   "cell_type": "code",
   "execution_count": 20,
   "metadata": {},
   "outputs": [
    {
     "name": "stdout",
     "output_type": "stream",
     "text": [
      "R2 without LifeSquare: \t\t0.7176\n",
      "R2 with LifeSquare_mean: \t0.7185\n"
     ]
    }
   ],
   "source": [
    "X = train[feature_names + ['LifeSquare_mean']]\n",
    "y = train[target_name]\n",
    "\n",
    "scores_1 = cross_val_score(gb_model, X, y, scoring='r2', cv=cv)\n",
    "print('R2 without LifeSquare: \\t\\t%.4f' % scores_0.mean())\n",
    "print('R2 with LifeSquare_mean: \\t%.4f' % scores_1.mean())"
   ]
  },
  {
   "cell_type": "markdown",
   "metadata": {},
   "source": [
    "Метрика немного увеличилась. Даже такая грубая замена помогла предсказательной модели."
   ]
  },
  {
   "cell_type": "markdown",
   "metadata": {},
   "source": [
    "**2 вариант** - для замены пропусков построим модель линейной регрессии. Переменная `LifeSquare` будет представлена как функция от переменной `Square`. Пропуски в `LifeSquare` заменяются рассчитанными по этой функции значениями. \n",
    "\n",
    "Опять создадим копию `LifeSquare` - `LifeSquare_imp`. Нам нужно сформировать обучающий датасет и датасет с пропусками для предсказаний.\n",
    "\n",
    "$\\text{Square}$ будет содержать значения общей площади для квартир, у которых `LifeSquare` известна.\n",
    "\n",
    "$\\text{LifeSquare}$ - для этих же квартир известные жилые площади. \n",
    "\n",
    "$\\text{Square_nan}$ - общие площади квартир, у которых стоят пропуски в столбце `LifeSquare`."
   ]
  },
  {
   "cell_type": "code",
   "execution_count": 21,
   "metadata": {},
   "outputs": [
    {
     "data": {
      "text/plain": [
       "((7882, 1), (7882,))"
      ]
     },
     "execution_count": 21,
     "metadata": {},
     "output_type": "execute_result"
    }
   ],
   "source": [
    "train['LifeSquare_imp'] = train['LifeSquare'] \n",
    "Square = train.loc[train['LifeSquare_imp'].notna(), ['Square']]\n",
    "LifeSquare = train.loc[train['LifeSquare_imp'].notna(), 'LifeSquare_imp']\n",
    "Square.shape, LifeSquare.shape"
   ]
  },
  {
   "cell_type": "code",
   "execution_count": 22,
   "metadata": {},
   "outputs": [
    {
     "data": {
      "text/plain": [
       "(2112, 1)"
      ]
     },
     "execution_count": 22,
     "metadata": {},
     "output_type": "execute_result"
    }
   ],
   "source": [
    "Square_nan = train.loc[train['LifeSquare_imp'].isna(), ['Square']]\n",
    "Square_nan.shape"
   ]
  },
  {
   "cell_type": "markdown",
   "metadata": {},
   "source": [
    "Обучаем линейную регрессию и делаем предсказания жилой площади."
   ]
  },
  {
   "cell_type": "code",
   "execution_count": 23,
   "metadata": {},
   "outputs": [],
   "source": [
    "lr_model = LinearRegression()\n",
    "lr_model.fit(X=Square, y=LifeSquare)\n",
    "preds = lr_model.predict(Square_nan)"
   ]
  },
  {
   "cell_type": "markdown",
   "metadata": {},
   "source": [
    "Записываем эти предсказания в переменную `LifeSquare_imp`."
   ]
  },
  {
   "cell_type": "code",
   "execution_count": 24,
   "metadata": {},
   "outputs": [],
   "source": [
    "train.loc[train['LifeSquare_imp'].isna(), ['LifeSquare_imp']] = preds"
   ]
  },
  {
   "cell_type": "code",
   "execution_count": 25,
   "metadata": {},
   "outputs": [
    {
     "data": {
      "image/png": "[encoded data removed]",
      "text/plain": [
       "<Figure size 528.685x360 with 1 Axes>"
      ]
     },
     "metadata": {},
     "output_type": "display_data"
    }
   ],
   "source": [
    "sns.lmplot(data=train, x='Square', y='LifeSquare_imp', hue='LifeSquare_nan', aspect=1.2);"
   ]
  },
  {
   "cell_type": "markdown",
   "metadata": {},
   "source": [
    "На графике новые точки лежат прямо на регрессионной прямой.\n",
    "\n",
    "Проверим, остались ли пропуски."
   ]
  },
  {
   "cell_type": "code",
   "execution_count": 26,
   "metadata": {},
   "outputs": [
    {
     "data": {
      "text/plain": [
       "0"
      ]
     },
     "execution_count": 26,
     "metadata": {},
     "output_type": "execute_result"
    }
   ],
   "source": [
    "train['LifeSquare_imp'].isna().sum()"
   ]
  },
  {
   "cell_type": "markdown",
   "metadata": {},
   "source": [
    "Обучим модель с добавлением нового признака `LifeSquare_imp`. Сравним метрики."
   ]
  },
  {
   "cell_type": "code",
   "execution_count": 27,
   "metadata": {},
   "outputs": [
    {
     "name": "stdout",
     "output_type": "stream",
     "text": [
      "R2 without LifeSquare: \t\t0.7176\n",
      "R2 with LifeSquare_mean: \t0.7185\n",
      "R2 with LifeSquare_imp: \t0.7191\n"
     ]
    }
   ],
   "source": [
    "X = train[feature_names + ['LifeSquare_imp']]\n",
    "y = train[target_name]\n",
    "\n",
    "scores_2 = cross_val_score(gb_model, X, y, scoring='r2', cv=cv)\n",
    "print('R2 without LifeSquare: \\t\\t%.4f' % scores_0.mean())\n",
    "print('R2 with LifeSquare_mean: \\t%.4f' % scores_1.mean())\n",
    "print('R2 with LifeSquare_imp: \\t%.4f' % scores_2.mean())"
   ]
  },
  {
   "cell_type": "markdown",
   "metadata": {},
   "source": [
    "R2 хуже не стал :). Возможно, признак `LifeSquare` стоит оставить в модели после любой замены пропусков."
   ]
  },
  {
   "cell_type": "markdown",
   "metadata": {},
   "source": [
    "Проверим, как менялся коэффициент корреляции между признаками `LifeSquare` и `Square`."
   ]
  },
  {
   "cell_type": "code",
   "execution_count": 28,
   "metadata": {
    "scrolled": true
   },
   "outputs": [
    {
     "data": {
      "text/plain": [
       "(0.7650482431544001, 0.670819607005122, 0.804584964941861)"
      ]
     },
     "execution_count": 28,
     "metadata": {},
     "output_type": "execute_result"
    }
   ],
   "source": [
    "train.corr()['LifeSquare']['Square'], \\\n",
    "train.corr()['LifeSquare_mean']['Square'], \\\n",
    "train.corr()['LifeSquare_imp']['Square']"
   ]
  },
  {
   "cell_type": "markdown",
   "metadata": {},
   "source": [
    "Также проверим, как менялся коэффициент корреляции между признаками `LifeSquare` и целевой переменной - `Price`."
   ]
  },
  {
   "cell_type": "code",
   "execution_count": 29,
   "metadata": {
    "colab": {},
    "colab_type": "code",
    "id": "7jIf7Xcp-bhm"
   },
   "outputs": [
    {
     "data": {
      "text/plain": [
       "(0.40055043022160347, 0.3636540537291066, 0.4116814253875971)"
      ]
     },
     "execution_count": 29,
     "metadata": {},
     "output_type": "execute_result"
    }
   ],
   "source": [
    "train.corr()['LifeSquare']['Price'], \\\n",
    "train.corr()['LifeSquare_mean']['Price'], \\\n",
    "train.corr()['LifeSquare_imp']['Price']"
   ]
  },
  {
   "cell_type": "markdown",
   "metadata": {},
   "source": [
    "Осталось посмотреть значимость этих двух новых переменных для модели. "
   ]
  },
  {
   "cell_type": "code",
   "execution_count": 30,
   "metadata": {},
   "outputs": [],
   "source": [
    "X = train[feature_names + ['LifeSquare_mean', 'LifeSquare_imp']]\n",
    "y = train[target_name]\n",
    "\n",
    "gb_model.fit(X, y)\n",
    "feature_importances = pd.DataFrame(gb_model.feature_importances_,\n",
    "                                   index=X.columns,\n",
    "                                   columns=['importance']).sort_values('importance', \n",
    "                                                                       ascending=False)"
   ]
  },
  {
   "cell_type": "code",
   "execution_count": 31,
   "metadata": {
    "scrolled": true
   },
   "outputs": [
    {
     "data": {
      "image/png": "[encoded data removed]",
      "text/plain": [
       "<Figure size 432x288 with 1 Axes>"
      ]
     },
     "metadata": {},
     "output_type": "display_data"
    }
   ],
   "source": [
    "feature_importances.plot.barh();"
   ]
  },
  {
   "cell_type": "markdown",
   "metadata": {},
   "source": [
    "Видим, что оба новых признака имеют низкую значимость для модели, в отличии от признака `Square`. Хотя `Square` и `LifeSquare` сильно коррелируют между собой. Возможно, дело в зашумленности данных в столбце `LifeSquare`. Так что вопрос об исключении признака `LifeSquare` пока остается открытым."
   ]
  },
  {
   "cell_type": "code",
   "execution_count": 32,
   "metadata": {},
   "outputs": [
    {
     "data": {
      "image/png": "[encoded data removed]",
      "text/plain": [
       "<Figure size 540x360 with 1 Axes>"
      ]
     },
     "metadata": {},
     "output_type": "display_data"
    }
   ],
   "source": [
    "sns.lmplot(data=train, x='Price', y='LifeSquare_imp', fit_reg=False, aspect=1.5);"
   ]
  },
  {
   "cell_type": "markdown",
   "metadata": {},
   "source": [
    "**Note:** В данном блокноте мы сравнили пару способов замены пропусков. Они НЕ являются универсальными и оптимальными. Это лишь демонстрация применения линейной регрессии для замены пропусков."
   ]
  },
  {
   "cell_type": "code",
   "execution_count": null,
   "metadata": {},
   "outputs": [],
   "source": []
  }
 ],
 "metadata": {
  "colab": {
   "collapsed_sections": [],
   "name": "Iterative Imputer example.ipynb",
   "provenance": []
  },
  "kernelspec": {
   "display_name": "Python 3",
   "language": "python",
   "name": "python3"
  },
  "language_info": {
   "codemirror_mode": {
    "name": "ipython",
    "version": 3
   },
   "file_extension": ".py",
   "mimetype": "text/x-python",
   "name": "python",
   "nbconvert_exporter": "python",
   "pygments_lexer": "ipython3",
   "version": "3.7.3"
  },
  "toc": {
   "base_numbering": 1,
   "nav_menu": {},
   "number_sections": false,
   "sideBar": true,
   "skip_h1_title": true,
   "title_cell": "Содержание",
   "title_sidebar": "Содержание",
   "toc_cell": false,
   "toc_position": {},
   "toc_section_display": true,
   "toc_window_display": false
  }
 },
 "nbformat": 4,
 "nbformat_minor": 1
}
