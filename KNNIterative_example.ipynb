{
 "cells": [
  {
   "cell_type": "markdown",
   "metadata": {
    "colab_type": "text",
    "id": "dS36jQwxn_l2"
   },
   "source": [
    "# Пример использования KNNImputer для замены пропусков\n",
    "\n"
   ]
  },
  {
   "cell_type": "markdown",
   "metadata": {
    "colab_type": "text",
    "id": "HELKajRon_l_"
   },
   "source": [
    "Документация - https://scikit-learn.org/stable/modules/generated/sklearn.impute.KNNImputer.html  \n",
    "\n",
    "Пример - https://www.analyticsvidhya.com/blog/2020/07/knnimputer-a-robust-way-to-impute-missing-values-using-scikit-learn/?utm_source=feedburner&utm_medium=email&utm_campaign=Feed%3A+AnalyticsVidhya+%28Analytics+Vidhya%29"
   ]
  },
  {
   "cell_type": "markdown",
   "metadata": {
    "colab_type": "text",
    "id": "RE-6pKUhn_l9"
   },
   "source": [
    "**Подключение библиотек и скриптов**"
   ]
  },
  {
   "cell_type": "code",
   "execution_count": 1,
   "metadata": {
    "colab": {},
    "colab_type": "code",
    "id": "tvDPmcQOn_mA"
   },
   "outputs": [],
   "source": [
    "import warnings\n",
    "warnings.filterwarnings('ignore')\n",
    "\n",
    "import numpy as np\n",
    "import pandas as pd\n",
    "import random\n",
    "\n",
    "from sklearn.model_selection import cross_val_score, train_test_split\n",
    "from sklearn.preprocessing import StandardScaler, RobustScaler\n",
    "from sklearn.linear_model import LinearRegression\n",
    "from sklearn.impute import KNNImputer\n",
    "from sklearn.ensemble import GradientBoostingRegressor\n",
    "from sklearn.metrics import r2_score\n",
    "from sklearn.model_selection import KFold, GridSearchCV, RandomizedSearchCV\n",
    "from sklearn.pipeline import Pipeline\n",
    "\n",
    "import matplotlib\n",
    "import matplotlib.pyplot as plt\n",
    "import seaborn as sns\n",
    "%matplotlib inline"
   ]
  },
  {
   "cell_type": "code",
   "execution_count": 2,
   "metadata": {
    "colab": {},
    "colab_type": "code",
    "id": "gaotSIpxn_mG"
   },
   "outputs": [],
   "source": [
    "sns.set(style='whitegrid')\n",
    "sns.set_context(\"paper\", font_scale=1.5)  \n",
    "pd.options.display.float_format = '{:,.4f}'.format\n",
    "pd.set_option('display.max_rows', 50)"
   ]
  },
  {
   "cell_type": "markdown",
   "metadata": {
    "colab_type": "text",
    "id": "qE5F4wz3n_mM"
   },
   "source": [
    "### Загрузка датасета"
   ]
  },
  {
   "cell_type": "code",
   "execution_count": 3,
   "metadata": {
    "colab": {},
    "colab_type": "code",
    "id": "KaWi5P51n_mN"
   },
   "outputs": [],
   "source": [
    "TRAIN_DATASET_PATH = '../../Kurs_project_task/train.csv'\n",
    "TEST_DATASET_PATH = '../../Kurs_project_task/test.csv'"
   ]
  },
  {
   "cell_type": "code",
   "execution_count": 4,
   "metadata": {
    "colab": {
     "base_uri": "https://localhost:8080/",
     "height": 34
    },
    "colab_type": "code",
    "id": "iHMwyCY8af_3",
    "outputId": "5c3da4d9-1d2a-4276-8431-4a050bf39363"
   },
   "outputs": [
    {
     "data": {
      "text/html": [
       "<div>\n",
       "<style scoped>\n",
       "    .dataframe tbody tr th:only-of-type {\n",
       "        vertical-align: middle;\n",
       "    }\n",
       "\n",
       "    .dataframe tbody tr th {\n",
       "        vertical-align: top;\n",
       "    }\n",
       "\n",
       "    .dataframe thead th {\n",
       "        text-align: right;\n",
       "    }\n",
       "</style>\n",
       "<table border=\"1\" class=\"dataframe\">\n",
       "  <thead>\n",
       "    <tr style=\"text-align: right;\">\n",
       "      <th></th>\n",
       "      <th>DistrictId</th>\n",
       "      <th>Rooms</th>\n",
       "      <th>Square</th>\n",
       "      <th>LifeSquare</th>\n",
       "      <th>KitchenSquare</th>\n",
       "      <th>Floor</th>\n",
       "      <th>HouseFloor</th>\n",
       "      <th>HouseYear</th>\n",
       "      <th>Ecology_1</th>\n",
       "      <th>Ecology_2</th>\n",
       "      <th>Ecology_3</th>\n",
       "      <th>Social_1</th>\n",
       "      <th>Social_2</th>\n",
       "      <th>Social_3</th>\n",
       "      <th>Healthcare_1</th>\n",
       "      <th>Helthcare_2</th>\n",
       "      <th>Shops_1</th>\n",
       "      <th>Shops_2</th>\n",
       "      <th>Price</th>\n",
       "    </tr>\n",
       "    <tr>\n",
       "      <th>Id</th>\n",
       "      <th></th>\n",
       "      <th></th>\n",
       "      <th></th>\n",
       "      <th></th>\n",
       "      <th></th>\n",
       "      <th></th>\n",
       "      <th></th>\n",
       "      <th></th>\n",
       "      <th></th>\n",
       "      <th></th>\n",
       "      <th></th>\n",
       "      <th></th>\n",
       "      <th></th>\n",
       "      <th></th>\n",
       "      <th></th>\n",
       "      <th></th>\n",
       "      <th></th>\n",
       "      <th></th>\n",
       "      <th></th>\n",
       "    </tr>\n",
       "  </thead>\n",
       "  <tbody>\n",
       "    <tr>\n",
       "      <th>14038</th>\n",
       "      <td>35</td>\n",
       "      <td>2.0000</td>\n",
       "      <td>47.9816</td>\n",
       "      <td>29.4428</td>\n",
       "      <td>6.0000</td>\n",
       "      <td>7</td>\n",
       "      <td>9.0000</td>\n",
       "      <td>1969</td>\n",
       "      <td>0.0890</td>\n",
       "      <td>B</td>\n",
       "      <td>B</td>\n",
       "      <td>33</td>\n",
       "      <td>7976</td>\n",
       "      <td>5</td>\n",
       "      <td>nan</td>\n",
       "      <td>0</td>\n",
       "      <td>11</td>\n",
       "      <td>B</td>\n",
       "      <td>184,966.9307</td>\n",
       "    </tr>\n",
       "    <tr>\n",
       "      <th>15053</th>\n",
       "      <td>41</td>\n",
       "      <td>3.0000</td>\n",
       "      <td>65.6836</td>\n",
       "      <td>40.0495</td>\n",
       "      <td>8.0000</td>\n",
       "      <td>7</td>\n",
       "      <td>9.0000</td>\n",
       "      <td>1978</td>\n",
       "      <td>0.0001</td>\n",
       "      <td>B</td>\n",
       "      <td>B</td>\n",
       "      <td>46</td>\n",
       "      <td>10309</td>\n",
       "      <td>1</td>\n",
       "      <td>240.0000</td>\n",
       "      <td>1</td>\n",
       "      <td>16</td>\n",
       "      <td>B</td>\n",
       "      <td>300,009.4501</td>\n",
       "    </tr>\n",
       "    <tr>\n",
       "      <th>4765</th>\n",
       "      <td>53</td>\n",
       "      <td>2.0000</td>\n",
       "      <td>44.9480</td>\n",
       "      <td>29.1976</td>\n",
       "      <td>0.0000</td>\n",
       "      <td>8</td>\n",
       "      <td>12.0000</td>\n",
       "      <td>1968</td>\n",
       "      <td>0.0496</td>\n",
       "      <td>B</td>\n",
       "      <td>B</td>\n",
       "      <td>34</td>\n",
       "      <td>7759</td>\n",
       "      <td>0</td>\n",
       "      <td>229.0000</td>\n",
       "      <td>1</td>\n",
       "      <td>3</td>\n",
       "      <td>B</td>\n",
       "      <td>220,925.9085</td>\n",
       "    </tr>\n",
       "    <tr>\n",
       "      <th>5809</th>\n",
       "      <td>58</td>\n",
       "      <td>2.0000</td>\n",
       "      <td>53.3530</td>\n",
       "      <td>52.7315</td>\n",
       "      <td>9.0000</td>\n",
       "      <td>8</td>\n",
       "      <td>17.0000</td>\n",
       "      <td>1977</td>\n",
       "      <td>0.4379</td>\n",
       "      <td>B</td>\n",
       "      <td>B</td>\n",
       "      <td>23</td>\n",
       "      <td>5735</td>\n",
       "      <td>3</td>\n",
       "      <td>1,084.0000</td>\n",
       "      <td>0</td>\n",
       "      <td>5</td>\n",
       "      <td>B</td>\n",
       "      <td>175,616.2272</td>\n",
       "    </tr>\n",
       "    <tr>\n",
       "      <th>10783</th>\n",
       "      <td>99</td>\n",
       "      <td>1.0000</td>\n",
       "      <td>39.6492</td>\n",
       "      <td>23.7762</td>\n",
       "      <td>7.0000</td>\n",
       "      <td>11</td>\n",
       "      <td>12.0000</td>\n",
       "      <td>1976</td>\n",
       "      <td>0.0123</td>\n",
       "      <td>B</td>\n",
       "      <td>B</td>\n",
       "      <td>35</td>\n",
       "      <td>5776</td>\n",
       "      <td>1</td>\n",
       "      <td>2,078.0000</td>\n",
       "      <td>2</td>\n",
       "      <td>4</td>\n",
       "      <td>B</td>\n",
       "      <td>150,226.5316</td>\n",
       "    </tr>\n",
       "  </tbody>\n",
       "</table>\n",
       "</div>"
      ],
      "text/plain": [
       "       DistrictId  Rooms  Square  LifeSquare  KitchenSquare  Floor  \\\n",
       "Id                                                                   \n",
       "14038          35 2.0000 47.9816     29.4428         6.0000      7   \n",
       "15053          41 3.0000 65.6836     40.0495         8.0000      7   \n",
       "4765           53 2.0000 44.9480     29.1976         0.0000      8   \n",
       "5809           58 2.0000 53.3530     52.7315         9.0000      8   \n",
       "10783          99 1.0000 39.6492     23.7762         7.0000     11   \n",
       "\n",
       "       HouseFloor  HouseYear  Ecology_1 Ecology_2 Ecology_3  Social_1  \\\n",
       "Id                                                                      \n",
       "14038      9.0000       1969     0.0890         B         B        33   \n",
       "15053      9.0000       1978     0.0001         B         B        46   \n",
       "4765      12.0000       1968     0.0496         B         B        34   \n",
       "5809      17.0000       1977     0.4379         B         B        23   \n",
       "10783     12.0000       1976     0.0123         B         B        35   \n",
       "\n",
       "       Social_2  Social_3  Healthcare_1  Helthcare_2  Shops_1 Shops_2  \\\n",
       "Id                                                                      \n",
       "14038      7976         5           nan            0       11       B   \n",
       "15053     10309         1      240.0000            1       16       B   \n",
       "4765       7759         0      229.0000            1        3       B   \n",
       "5809       5735         3    1,084.0000            0        5       B   \n",
       "10783      5776         1    2,078.0000            2        4       B   \n",
       "\n",
       "             Price  \n",
       "Id                  \n",
       "14038 184,966.9307  \n",
       "15053 300,009.4501  \n",
       "4765  220,925.9085  \n",
       "5809  175,616.2272  \n",
       "10783 150,226.5316  "
      ]
     },
     "execution_count": 4,
     "metadata": {},
     "output_type": "execute_result"
    }
   ],
   "source": [
    "train = pd.read_csv(TRAIN_DATASET_PATH, index_col='Id')\n",
    "train.head()"
   ]
  },
  {
   "cell_type": "markdown",
   "metadata": {
    "colab_type": "text",
    "id": "gdlhKyxSn_mW"
   },
   "source": [
    "**Описание датасета**\n",
    "\n",
    "* **Id** - идентификационный номер квартиры\n",
    "* **DistrictId** - идентификационный номер района\n",
    "* **Rooms** - количество комнат\n",
    "* **Square** - площадь\n",
    "* **LifeSquare** - жилая площадь\n",
    "* **KitchenSquare** - площадь кухни\n",
    "* **Floor** - этаж\n",
    "* **HouseFloor** - количество этажей в доме\n",
    "* **HouseYear** - год постройки дома\n",
    "* **Ecology_1, Ecology_2, Ecology_3** - экологические показатели местности\n",
    "* **Social_1, Social_2, Social_3** - социальные показатели местности\n",
    "* **Healthcare_1, Helthcare_2** - показатели местности, связанные с охраной здоровья\n",
    "* **Shops_1, Shops_2** - показатели, связанные с наличием магазинов, торговых центров\n",
    "* **Price** - цена квартиры"
   ]
  },
  {
   "cell_type": "code",
   "execution_count": 5,
   "metadata": {
    "colab": {
     "base_uri": "https://localhost:8080/",
     "height": 34
    },
    "colab_type": "code",
    "id": "b9AoE0rDn_mg",
    "outputId": "b7b5717c-50f0-4985-b3d6-4b888af57c90"
   },
   "outputs": [
    {
     "data": {
      "text/plain": [
       "(10000, 19)"
      ]
     },
     "execution_count": 5,
     "metadata": {},
     "output_type": "execute_result"
    }
   ],
   "source": [
    "train.shape"
   ]
  },
  {
   "cell_type": "markdown",
   "metadata": {
    "colab_type": "text",
    "id": "N6sHUQgzn_mu"
   },
   "source": [
    "### Приведение типов"
   ]
  },
  {
   "cell_type": "code",
   "execution_count": 6,
   "metadata": {
    "colab": {},
    "colab_type": "code",
    "id": "JDpmPqf7n_mz"
   },
   "outputs": [],
   "source": [
    "feature_bin_names = ['Ecology_2', 'Ecology_3', 'Shops_2']\n",
    "\n",
    "train[feature_bin_names] = train[feature_bin_names].replace({'A':0, 'B':1})"
   ]
  },
  {
   "cell_type": "markdown",
   "metadata": {
    "colab_type": "text",
    "id": "qU-w4Msgn_n8"
   },
   "source": [
    "### Обработка пропусков"
   ]
  },
  {
   "cell_type": "code",
   "execution_count": 7,
   "metadata": {
    "colab": {
     "base_uri": "https://localhost:8080/",
     "height": 67
    },
    "colab_type": "code",
    "id": "kag7NEqGn_n9",
    "outputId": "6a1b64da-6218-4e70-833c-c27bc6c5c6ef"
   },
   "outputs": [
    {
     "data": {
      "text/plain": [
       "LifeSquare      2113\n",
       "Healthcare_1    4798\n",
       "dtype: int64"
      ]
     },
     "execution_count": 7,
     "metadata": {},
     "output_type": "execute_result"
    }
   ],
   "source": [
    "train.isna().sum()[train.isna().sum() != 0]"
   ]
  },
  {
   "cell_type": "markdown",
   "metadata": {
    "colab_type": "text",
    "id": "wodeIMqSfi2V"
   },
   "source": [
    "**Базовый вариант** - обучим модель на данных без признаков с пропусками. Для предсказания используем GradientBoostingRegressor."
   ]
  },
  {
   "cell_type": "code",
   "execution_count": 8,
   "metadata": {
    "colab": {},
    "colab_type": "code",
    "id": "CO1yjefeigLa"
   },
   "outputs": [],
   "source": [
    "feature_names = train.drop(['LifeSquare', 'Healthcare_1', 'DistrictId', 'Price'], axis=1).columns\n",
    "target_name = ['Price']\n",
    "\n",
    "X = train[feature_names]\n",
    "y = train[target_name]"
   ]
  },
  {
   "cell_type": "code",
   "execution_count": 9,
   "metadata": {
    "colab": {},
    "colab_type": "code",
    "id": "DK2viwczfwx1"
   },
   "outputs": [],
   "source": [
    "gb_model = GradientBoostingRegressor(\n",
    "    n_estimators=100,\n",
    "    n_iter_no_change=10,\n",
    "    max_depth=8,\n",
    "    max_features=6,\n",
    "    random_state=42)"
   ]
  },
  {
   "cell_type": "code",
   "execution_count": 10,
   "metadata": {
    "colab": {
     "base_uri": "https://localhost:8080/",
     "height": 34
    },
    "colab_type": "code",
    "id": "3IHBq300fEbH",
    "outputId": "6371285e-7f5f-4dd1-d8e5-d0afb2dc7861"
   },
   "outputs": [
    {
     "name": "stdout",
     "output_type": "stream",
     "text": [
      "R2: 0.7436\n"
     ]
    }
   ],
   "source": [
    "cv = KFold(n_splits=10, shuffle=True, random_state=42)\n",
    "\n",
    "scores = cross_val_score(gb_model, X, y, scoring='r2', cv=cv)\n",
    "print('R2: %.4f' % scores.mean()) # R2: 0.7436"
   ]
  },
  {
   "cell_type": "markdown",
   "metadata": {
    "colab_type": "text",
    "id": "8WRYXKXckPHW"
   },
   "source": [
    "**1 вариант** - используем KNNImputer по умолчанию"
   ]
  },
  {
   "cell_type": "code",
   "execution_count": 11,
   "metadata": {
    "colab": {
     "base_uri": "https://localhost:8080/",
     "height": 67
    },
    "colab_type": "code",
    "id": "3lAyFu1nlBdu",
    "outputId": "08213b97-c692-4514-e574-39d732fb0bf2"
   },
   "outputs": [
    {
     "data": {
      "text/plain": [
       "LifeSquare      2113\n",
       "Healthcare_1    4798\n",
       "dtype: int64"
      ]
     },
     "execution_count": 11,
     "metadata": {},
     "output_type": "execute_result"
    }
   ],
   "source": [
    "feature_names = train.drop(['DistrictId', 'Price'], axis=1).columns\n",
    "X = train[feature_names]\n",
    "X.isna().sum()[X.isna().sum() != 0]"
   ]
  },
  {
   "cell_type": "code",
   "execution_count": 12,
   "metadata": {
    "colab": {},
    "colab_type": "code",
    "id": "oOpE-CTukZ8z"
   },
   "outputs": [
    {
     "name": "stdout",
     "output_type": "stream",
     "text": [
      "R2: 0.7483\n"
     ]
    }
   ],
   "source": [
    "imputer = KNNImputer()\n",
    "\n",
    "X_imp = imputer.fit_transform(X)\n",
    "scores = cross_val_score(gb_model, X_imp, y, scoring='r2', cv=cv)\n",
    "print('R2: %.4f' % scores.mean()) # R2: 0.7483"
   ]
  },
  {
   "cell_type": "markdown",
   "metadata": {
    "colab_type": "text",
    "id": "E-gnS1zwrCmO"
   },
   "source": [
    "Метрика немного выросла."
   ]
  },
  {
   "cell_type": "markdown",
   "metadata": {
    "colab_type": "text",
    "id": "Pp8pq8DmmM-d"
   },
   "source": [
    "**2 вариант** - посмотрим, как влияет параметр n_neighbors (количество соседей) на качество предсказания"
   ]
  },
  {
   "cell_type": "code",
   "execution_count": 13,
   "metadata": {
    "colab": {
     "base_uri": "https://localhost:8080/",
     "height": 101
    },
    "colab_type": "code",
    "id": "EFMNq_ANn_oK",
    "outputId": "d04da2c2-3036-4d12-9851-aa9b0b06b43c"
   },
   "outputs": [],
   "source": [
    "results = list()\n",
    "for n in range(3, 21):\n",
    "    imputer = KNNImputer(n_neighbors=n)\n",
    "    X_imp = imputer.fit_transform(X)\n",
    "    scores = cross_val_score(gb_model, X_imp, y, scoring='r2', cv=cv)\n",
    "    results.append(scores)\n",
    "    #print('R2 train: %.4f - n_neighbors=%d' % (scores.mean(), n))\n",
    "\n",
    "res = pd.DataFrame(results, index=list(range(3, 21)))\n",
    "res = res.T.stack().reset_index(1)\n",
    "res.columns = ['n_neighbors', 'score']"
   ]
  },
  {
   "cell_type": "code",
   "execution_count": 14,
   "metadata": {
    "scrolled": true
   },
   "outputs": [
    {
     "data": {
      "image/png": "[encoded data removed]",
      "text/plain": [
       "<Figure size 432x288 with 1 Axes>"
      ]
     },
     "metadata": {},
     "output_type": "display_data"
    }
   ],
   "source": [
    "sns.pointplot(x='n_neighbors', y='score', data=res, join=False, estimator=np.mean, ci='sd');"
   ]
  },
  {
   "cell_type": "code",
   "execution_count": 15,
   "metadata": {
    "scrolled": true
   },
   "outputs": [
    {
     "data": {
      "text/html": [
       "<div>\n",
       "<style scoped>\n",
       "    .dataframe tbody tr th:only-of-type {\n",
       "        vertical-align: middle;\n",
       "    }\n",
       "\n",
       "    .dataframe tbody tr th {\n",
       "        vertical-align: top;\n",
       "    }\n",
       "\n",
       "    .dataframe thead th {\n",
       "        text-align: right;\n",
       "    }\n",
       "</style>\n",
       "<table border=\"1\" class=\"dataframe\">\n",
       "  <thead>\n",
       "    <tr style=\"text-align: right;\">\n",
       "      <th></th>\n",
       "      <th>mean</th>\n",
       "      <th>std</th>\n",
       "      <th>max</th>\n",
       "      <th>min</th>\n",
       "    </tr>\n",
       "    <tr>\n",
       "      <th>n_neighbors</th>\n",
       "      <th></th>\n",
       "      <th></th>\n",
       "      <th></th>\n",
       "      <th></th>\n",
       "    </tr>\n",
       "  </thead>\n",
       "  <tbody>\n",
       "    <tr>\n",
       "      <th>19</th>\n",
       "      <td>0.7509</td>\n",
       "      <td>0.0242</td>\n",
       "      <td>0.8038</td>\n",
       "      <td>0.7192</td>\n",
       "    </tr>\n",
       "    <tr>\n",
       "      <th>10</th>\n",
       "      <td>0.7507</td>\n",
       "      <td>0.0232</td>\n",
       "      <td>0.8004</td>\n",
       "      <td>0.7196</td>\n",
       "    </tr>\n",
       "    <tr>\n",
       "      <th>7</th>\n",
       "      <td>0.7490</td>\n",
       "      <td>0.0269</td>\n",
       "      <td>0.8090</td>\n",
       "      <td>0.7134</td>\n",
       "    </tr>\n",
       "    <tr>\n",
       "      <th>6</th>\n",
       "      <td>0.7487</td>\n",
       "      <td>0.0259</td>\n",
       "      <td>0.7996</td>\n",
       "      <td>0.6965</td>\n",
       "    </tr>\n",
       "    <tr>\n",
       "      <th>5</th>\n",
       "      <td>0.7483</td>\n",
       "      <td>0.0246</td>\n",
       "      <td>0.8030</td>\n",
       "      <td>0.7106</td>\n",
       "    </tr>\n",
       "    <tr>\n",
       "      <th>9</th>\n",
       "      <td>0.7480</td>\n",
       "      <td>0.0220</td>\n",
       "      <td>0.7976</td>\n",
       "      <td>0.7208</td>\n",
       "    </tr>\n",
       "    <tr>\n",
       "      <th>13</th>\n",
       "      <td>0.7473</td>\n",
       "      <td>0.0257</td>\n",
       "      <td>0.7996</td>\n",
       "      <td>0.7062</td>\n",
       "    </tr>\n",
       "    <tr>\n",
       "      <th>16</th>\n",
       "      <td>0.7472</td>\n",
       "      <td>0.0246</td>\n",
       "      <td>0.8046</td>\n",
       "      <td>0.7115</td>\n",
       "    </tr>\n",
       "    <tr>\n",
       "      <th>15</th>\n",
       "      <td>0.7468</td>\n",
       "      <td>0.0241</td>\n",
       "      <td>0.7937</td>\n",
       "      <td>0.7071</td>\n",
       "    </tr>\n",
       "    <tr>\n",
       "      <th>4</th>\n",
       "      <td>0.7465</td>\n",
       "      <td>0.0245</td>\n",
       "      <td>0.8024</td>\n",
       "      <td>0.7140</td>\n",
       "    </tr>\n",
       "    <tr>\n",
       "      <th>12</th>\n",
       "      <td>0.7448</td>\n",
       "      <td>0.0202</td>\n",
       "      <td>0.7950</td>\n",
       "      <td>0.7226</td>\n",
       "    </tr>\n",
       "    <tr>\n",
       "      <th>3</th>\n",
       "      <td>0.7445</td>\n",
       "      <td>0.0243</td>\n",
       "      <td>0.7968</td>\n",
       "      <td>0.7065</td>\n",
       "    </tr>\n",
       "    <tr>\n",
       "      <th>17</th>\n",
       "      <td>0.7443</td>\n",
       "      <td>0.0273</td>\n",
       "      <td>0.7980</td>\n",
       "      <td>0.6992</td>\n",
       "    </tr>\n",
       "    <tr>\n",
       "      <th>11</th>\n",
       "      <td>0.7440</td>\n",
       "      <td>0.0233</td>\n",
       "      <td>0.8027</td>\n",
       "      <td>0.7152</td>\n",
       "    </tr>\n",
       "    <tr>\n",
       "      <th>8</th>\n",
       "      <td>0.7435</td>\n",
       "      <td>0.0257</td>\n",
       "      <td>0.8000</td>\n",
       "      <td>0.7108</td>\n",
       "    </tr>\n",
       "    <tr>\n",
       "      <th>18</th>\n",
       "      <td>0.7429</td>\n",
       "      <td>0.0276</td>\n",
       "      <td>0.8001</td>\n",
       "      <td>0.7024</td>\n",
       "    </tr>\n",
       "    <tr>\n",
       "      <th>20</th>\n",
       "      <td>0.7425</td>\n",
       "      <td>0.0254</td>\n",
       "      <td>0.7975</td>\n",
       "      <td>0.7120</td>\n",
       "    </tr>\n",
       "    <tr>\n",
       "      <th>14</th>\n",
       "      <td>0.7418</td>\n",
       "      <td>0.0288</td>\n",
       "      <td>0.8044</td>\n",
       "      <td>0.6992</td>\n",
       "    </tr>\n",
       "  </tbody>\n",
       "</table>\n",
       "</div>"
      ],
      "text/plain": [
       "              mean    std    max    min\n",
       "n_neighbors                            \n",
       "19          0.7509 0.0242 0.8038 0.7192\n",
       "10          0.7507 0.0232 0.8004 0.7196\n",
       "7           0.7490 0.0269 0.8090 0.7134\n",
       "6           0.7487 0.0259 0.7996 0.6965\n",
       "5           0.7483 0.0246 0.8030 0.7106\n",
       "9           0.7480 0.0220 0.7976 0.7208\n",
       "13          0.7473 0.0257 0.7996 0.7062\n",
       "16          0.7472 0.0246 0.8046 0.7115\n",
       "15          0.7468 0.0241 0.7937 0.7071\n",
       "4           0.7465 0.0245 0.8024 0.7140\n",
       "12          0.7448 0.0202 0.7950 0.7226\n",
       "3           0.7445 0.0243 0.7968 0.7065\n",
       "17          0.7443 0.0273 0.7980 0.6992\n",
       "11          0.7440 0.0233 0.8027 0.7152\n",
       "8           0.7435 0.0257 0.8000 0.7108\n",
       "18          0.7429 0.0276 0.8001 0.7024\n",
       "20          0.7425 0.0254 0.7975 0.7120\n",
       "14          0.7418 0.0288 0.8044 0.6992"
      ]
     },
     "execution_count": 15,
     "metadata": {},
     "output_type": "execute_result"
    }
   ],
   "source": [
    "res.groupby('n_neighbors')['score'].agg(\n",
    "    mean='mean', std='std', max='max', min='min').sort_values('mean', ascending=False)"
   ]
  },
  {
   "cell_type": "markdown",
   "metadata": {},
   "source": [
    "Максимальное значение метрики дает n_neighbors=19. Среднее R2 в этом случае равно 0.7509."
   ]
  },
  {
   "cell_type": "markdown",
   "metadata": {
    "colab_type": "text",
    "id": "AmrnOWgrCaJU"
   },
   "source": [
    "**3 вариант** - подберем по сетке параметр n_neighbors в случае работы с отложенной выборкой"
   ]
  },
  {
   "cell_type": "code",
   "execution_count": 16,
   "metadata": {
    "colab": {
     "base_uri": "https://localhost:8080/",
     "height": 67
    },
    "colab_type": "code",
    "id": "oA_XNHhrHvm4",
    "outputId": "f1cbf2f3-bb41-4645-d2cb-dc16f0bc935b"
   },
   "outputs": [
    {
     "data": {
      "text/plain": [
       "((7500, 17), (2500, 17), (7500, 1), (2500, 1))"
      ]
     },
     "execution_count": 16,
     "metadata": {},
     "output_type": "execute_result"
    }
   ],
   "source": [
    "X_train, X_valid, y_train, y_valid = train_test_split(X, y, test_size=0.25, shuffle=True, random_state=42)\n",
    "X_train.shape, X_valid.shape, y_train.shape, y_valid.shape"
   ]
  },
  {
   "cell_type": "code",
   "execution_count": 17,
   "metadata": {
    "colab": {
     "base_uri": "https://localhost:8080/",
     "height": 67
    },
    "colab_type": "code",
    "id": "oA_XNHhrHvm4",
    "outputId": "f1cbf2f3-bb41-4645-d2cb-dc16f0bc935b"
   },
   "outputs": [
    {
     "data": {
      "text/plain": [
       "LifeSquare      1594\n",
       "Healthcare_1    3614\n",
       "dtype: int64"
      ]
     },
     "execution_count": 17,
     "metadata": {},
     "output_type": "execute_result"
    }
   ],
   "source": [
    "X_train.isna().sum()[X_train.isna().sum() != 0]"
   ]
  },
  {
   "cell_type": "code",
   "execution_count": 18,
   "metadata": {
    "colab": {
     "base_uri": "https://localhost:8080/",
     "height": 101
    },
    "colab_type": "code",
    "id": "C6sf9-Q-3Xkz",
    "outputId": "f92e24b8-944f-47a8-d903-4d7879f0e52c"
   },
   "outputs": [
    {
     "name": "stdout",
     "output_type": "stream",
     "text": [
      "R2 train: 0.7334\n",
      "R2 valid: 0.7280\n",
      "{'imputer__n_neighbors': 9}\n"
     ]
    }
   ],
   "source": [
    "cv = KFold(n_splits=5, shuffle=True, random_state=42)\n",
    "\n",
    "pipeline = Pipeline(steps=[('imputer', KNNImputer()), \n",
    "                           ('model', gb_model)])\n",
    "\n",
    "params = {\n",
    "    'imputer__n_neighbors' : np.arange(3, 21)\n",
    "}\n",
    "\n",
    "grid = GridSearchCV(pipeline, params, cv=cv, scoring='r2', n_jobs=-1)\n",
    "grid.fit(X_train, y_train)\n",
    "print('R2 train: %.4f' % grid.best_score_)\n",
    "print('R2 valid: %.4f' % grid.score(X_valid, y_valid))\n",
    "print(grid.best_params_)"
   ]
  },
  {
   "cell_type": "markdown",
   "metadata": {
    "colab_type": "text",
    "id": "zTdOIsvZ_sV4"
   },
   "source": [
    "Таким образом, следующий пайплайн можно использовать для замены пропусков и предсказания цен на квартиры. "
   ]
  },
  {
   "cell_type": "code",
   "execution_count": 24,
   "metadata": {
    "colab": {
     "base_uri": "https://localhost:8080/",
     "height": 34
    },
    "colab_type": "code",
    "id": "A7JK6psH-vEy",
    "outputId": "833ac355-1985-4150-e872-d56045c221a2"
   },
   "outputs": [
    {
     "name": "stdout",
     "output_type": "stream",
     "text": [
      "R2: 0.7351\n"
     ]
    }
   ],
   "source": [
    "pipeline = Pipeline(steps=[('scaler', RobustScaler()),\n",
    "                           ('imputer', KNNImputer(n_neighbors=9)), \n",
    "                           ('model', gb_model)])\n",
    "pipeline.fit(X_train, y_train)\n",
    "y_hat = pipeline.predict(X_valid)\n",
    "print('R2: %.4f' % r2_score(y_valid, y_hat)) # R2: 0.7351 (9)"
   ]
  },
  {
   "cell_type": "markdown",
   "metadata": {
    "colab_type": "text",
    "id": "PQUPCq6h9MIw"
   },
   "source": [
    "Что еще можно проверить?\n",
    "\n",
    "- попробовать заполнить пропуски только в одном признаке.\n",
    "- использовать другой способ масштабирования.\n",
    "- сравнить KNNImputer с другими способами замены пропусков."
   ]
  },
  {
   "cell_type": "code",
   "execution_count": null,
   "metadata": {
    "colab": {},
    "colab_type": "code",
    "id": "7jIf7Xcp-bhm"
   },
   "outputs": [],
   "source": []
  }
 ],
 "metadata": {
  "colab": {
   "collapsed_sections": [],
   "name": "Iterative Imputer example.ipynb",
   "provenance": []
  },
  "kernelspec": {
   "display_name": "Python 3",
   "language": "python",
   "name": "python3"
  },
  "language_info": {
   "codemirror_mode": {
    "name": "ipython",
    "version": 3
   },
   "file_extension": ".py",
   "mimetype": "text/x-python",
   "name": "python",
   "nbconvert_exporter": "python",
   "pygments_lexer": "ipython3",
   "version": "3.7.3"
  },
  "toc": {
   "base_numbering": 1,
   "nav_menu": {},
   "number_sections": false,
   "sideBar": true,
   "skip_h1_title": true,
   "title_cell": "Содержание",
   "title_sidebar": "Содержание",
   "toc_cell": false,
   "toc_position": {},
   "toc_section_display": true,
   "toc_window_display": false
  }
 },
 "nbformat": 4,
 "nbformat_minor": 1
}
